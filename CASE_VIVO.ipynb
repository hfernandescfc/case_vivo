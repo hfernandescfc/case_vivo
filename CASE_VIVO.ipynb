{
  "nbformat": 4,
  "nbformat_minor": 0,
  "metadata": {
    "colab": {
      "name": "CASE_VIVO.ipynb",
      "provenance": [],
      "authorship_tag": "ABX9TyMXgQk1IEObpnabhJvg0aWN",
      "include_colab_link": true
    },
    "kernelspec": {
      "name": "python3",
      "display_name": "Python 3"
    },
    "language_info": {
      "name": "python"
    }
  },
  "cells": [
    {
      "cell_type": "markdown",
      "metadata": {
        "id": "view-in-github",
        "colab_type": "text"
      },
      "source": [
        "<a href=\"https://colab.research.google.com/github/hfernandescfc/case_vivo/blob/main/CASE_VIVO.ipynb\" target=\"_parent\"><img src=\"https://colab.research.google.com/assets/colab-badge.svg\" alt=\"Open In Colab\"/></a>"
      ]
    },
    {
      "cell_type": "code",
      "execution_count": 86,
      "metadata": {
        "id": "MoX7swdadelq"
      },
      "outputs": [],
      "source": [
        "import pandas as pd\n",
        "import numpy as np\n",
        "import matplotlib.pyplot as plt\n",
        "import seaborn as sns\n",
        "from yellowbrick.cluster import KElbowVisualizer\n",
        "from sklearn.cluster import KMeans\n",
        "from sklearn.preprocessing import LabelEncoder\n",
        "from sklearn.preprocessing import StandardScaler\n",
        "from sklearn.cluster import AgglomerativeClustering"
      ]
    },
    {
      "cell_type": "markdown",
      "source": [
        "### Framework\n",
        "\n",
        "\n",
        "\n",
        "1.   Avaliação dos tipos de dados disponíveis com a biblioteca pandas (tipos de variáveis envolvidas)\n",
        "2.   Limpeza de dados utilizando pandas. Verificação / preenchimento de dados faltantes e manipulação de variáveis.\n",
        "3.   Análise exploratória dos dados - análise univariada e multivariada utilizando pandas e bibliotecas de visualização como matplotlib e seaborn. Foco no entendimento do comportamento de cada variável.\n",
        "4.   Após entendimento das variáveis e as respectivas relações com as outras, definição dos critérios de bom e mau desempenho, bem como apontamento da lista de clientes em cada categoria.\n",
        "5.   Preprocessamento (enconding de variáveis categóricas e aplicação de scaling para média 0 e variância 1) e aplicação de algoritmos de clustering"
      ],
      "metadata": {
        "id": "u-ThbP4vgqf8"
      }
    },
    {
      "cell_type": "markdown",
      "source": [
        "### 1. Interpretação dos dados"
      ],
      "metadata": {
        "id": "YlwwvOlq7Mu8"
      }
    },
    {
      "cell_type": "code",
      "source": [
        "path = r'/content/havai.txt'\n",
        "df = pd.read_csv(path, sep = ';')"
      ],
      "metadata": {
        "id": "5vxhxPnydneM"
      },
      "execution_count": 33,
      "outputs": []
    },
    {
      "cell_type": "code",
      "source": [
        "df.columns"
      ],
      "metadata": {
        "colab": {
          "base_uri": "https://localhost:8080/"
        },
        "id": "Fl5bTrJHf4s6",
        "outputId": "c2f5971a-237a-4894-df97-bb07806c376b"
      },
      "execution_count": 34,
      "outputs": [
        {
          "output_type": "execute_result",
          "data": {
            "text/plain": [
              "Index(['AP', 'STA', 'RSSI_DBM', 'TX_PHY_RATE', 'CCA_INT', 'FQ', 'ID_CLIENTE',\n",
              "       'PLANO'],\n",
              "      dtype='object')"
            ]
          },
          "metadata": {},
          "execution_count": 34
        }
      ]
    },
    {
      "cell_type": "code",
      "source": [
        "chaves = ['ID_CLIENTE', 'AP', 'STA']\n",
        "categoricas = ['FQ', 'PLANO', 'RSSI_DBM']\n",
        "numericas = ['TX_PHY_RATE', 'CCA_INT']"
      ],
      "metadata": {
        "id": "VyWxTIc0ftQY"
      },
      "execution_count": 35,
      "outputs": []
    },
    {
      "cell_type": "code",
      "source": [
        "df.head()"
      ],
      "metadata": {
        "colab": {
          "base_uri": "https://localhost:8080/",
          "height": 206
        },
        "id": "VdKB98NieDVs",
        "outputId": "0c58c88e-8ded-4920-a148-60634daf5dcf"
      },
      "execution_count": 36,
      "outputs": [
        {
          "output_type": "execute_result",
          "data": {
            "text/plain": [
              "                  AP                STA  RSSI_DBM  TX_PHY_RATE  CCA_INT  \\\n",
              "0  a4:33:d7:8e:56:e7  68:27:37:76:94:2e       -56          300        0   \n",
              "1  a4:33:d7:8e:56:e7  68:b9:d3:94:c3:2b       -40           65       90   \n",
              "2  10:72:23:7f:ce:df  28:83:35:3f:73:21       -52           58      100   \n",
              "3  a4:33:d7:88:28:7b  d8:08:31:16:2d:ec       -87           65        0   \n",
              "4  a4:33:d7:88:28:7b  90:fd:61:50:cd:03       -62            1      160   \n",
              "\n",
              "      FQ  ID_CLIENTE     PLANO  \n",
              "0  5G BS           1  200 Mbps  \n",
              "1   2,4G           1  200 Mbps  \n",
              "2   2,4G           2   50 Mbps  \n",
              "3     5G           3  200 Mbps  \n",
              "4   2,4G           3  200 Mbps  "
            ],
            "text/html": [
              "\n",
              "  <div id=\"df-0de51151-c75e-400d-b247-bd8beadd5cdb\">\n",
              "    <div class=\"colab-df-container\">\n",
              "      <div>\n",
              "<style scoped>\n",
              "    .dataframe tbody tr th:only-of-type {\n",
              "        vertical-align: middle;\n",
              "    }\n",
              "\n",
              "    .dataframe tbody tr th {\n",
              "        vertical-align: top;\n",
              "    }\n",
              "\n",
              "    .dataframe thead th {\n",
              "        text-align: right;\n",
              "    }\n",
              "</style>\n",
              "<table border=\"1\" class=\"dataframe\">\n",
              "  <thead>\n",
              "    <tr style=\"text-align: right;\">\n",
              "      <th></th>\n",
              "      <th>AP</th>\n",
              "      <th>STA</th>\n",
              "      <th>RSSI_DBM</th>\n",
              "      <th>TX_PHY_RATE</th>\n",
              "      <th>CCA_INT</th>\n",
              "      <th>FQ</th>\n",
              "      <th>ID_CLIENTE</th>\n",
              "      <th>PLANO</th>\n",
              "    </tr>\n",
              "  </thead>\n",
              "  <tbody>\n",
              "    <tr>\n",
              "      <th>0</th>\n",
              "      <td>a4:33:d7:8e:56:e7</td>\n",
              "      <td>68:27:37:76:94:2e</td>\n",
              "      <td>-56</td>\n",
              "      <td>300</td>\n",
              "      <td>0</td>\n",
              "      <td>5G BS</td>\n",
              "      <td>1</td>\n",
              "      <td>200 Mbps</td>\n",
              "    </tr>\n",
              "    <tr>\n",
              "      <th>1</th>\n",
              "      <td>a4:33:d7:8e:56:e7</td>\n",
              "      <td>68:b9:d3:94:c3:2b</td>\n",
              "      <td>-40</td>\n",
              "      <td>65</td>\n",
              "      <td>90</td>\n",
              "      <td>2,4G</td>\n",
              "      <td>1</td>\n",
              "      <td>200 Mbps</td>\n",
              "    </tr>\n",
              "    <tr>\n",
              "      <th>2</th>\n",
              "      <td>10:72:23:7f:ce:df</td>\n",
              "      <td>28:83:35:3f:73:21</td>\n",
              "      <td>-52</td>\n",
              "      <td>58</td>\n",
              "      <td>100</td>\n",
              "      <td>2,4G</td>\n",
              "      <td>2</td>\n",
              "      <td>50 Mbps</td>\n",
              "    </tr>\n",
              "    <tr>\n",
              "      <th>3</th>\n",
              "      <td>a4:33:d7:88:28:7b</td>\n",
              "      <td>d8:08:31:16:2d:ec</td>\n",
              "      <td>-87</td>\n",
              "      <td>65</td>\n",
              "      <td>0</td>\n",
              "      <td>5G</td>\n",
              "      <td>3</td>\n",
              "      <td>200 Mbps</td>\n",
              "    </tr>\n",
              "    <tr>\n",
              "      <th>4</th>\n",
              "      <td>a4:33:d7:88:28:7b</td>\n",
              "      <td>90:fd:61:50:cd:03</td>\n",
              "      <td>-62</td>\n",
              "      <td>1</td>\n",
              "      <td>160</td>\n",
              "      <td>2,4G</td>\n",
              "      <td>3</td>\n",
              "      <td>200 Mbps</td>\n",
              "    </tr>\n",
              "  </tbody>\n",
              "</table>\n",
              "</div>\n",
              "      <button class=\"colab-df-convert\" onclick=\"convertToInteractive('df-0de51151-c75e-400d-b247-bd8beadd5cdb')\"\n",
              "              title=\"Convert this dataframe to an interactive table.\"\n",
              "              style=\"display:none;\">\n",
              "        \n",
              "  <svg xmlns=\"http://www.w3.org/2000/svg\" height=\"24px\"viewBox=\"0 0 24 24\"\n",
              "       width=\"24px\">\n",
              "    <path d=\"M0 0h24v24H0V0z\" fill=\"none\"/>\n",
              "    <path d=\"M18.56 5.44l.94 2.06.94-2.06 2.06-.94-2.06-.94-.94-2.06-.94 2.06-2.06.94zm-11 1L8.5 8.5l.94-2.06 2.06-.94-2.06-.94L8.5 2.5l-.94 2.06-2.06.94zm10 10l.94 2.06.94-2.06 2.06-.94-2.06-.94-.94-2.06-.94 2.06-2.06.94z\"/><path d=\"M17.41 7.96l-1.37-1.37c-.4-.4-.92-.59-1.43-.59-.52 0-1.04.2-1.43.59L10.3 9.45l-7.72 7.72c-.78.78-.78 2.05 0 2.83L4 21.41c.39.39.9.59 1.41.59.51 0 1.02-.2 1.41-.59l7.78-7.78 2.81-2.81c.8-.78.8-2.07 0-2.86zM5.41 20L4 18.59l7.72-7.72 1.47 1.35L5.41 20z\"/>\n",
              "  </svg>\n",
              "      </button>\n",
              "      \n",
              "  <style>\n",
              "    .colab-df-container {\n",
              "      display:flex;\n",
              "      flex-wrap:wrap;\n",
              "      gap: 12px;\n",
              "    }\n",
              "\n",
              "    .colab-df-convert {\n",
              "      background-color: #E8F0FE;\n",
              "      border: none;\n",
              "      border-radius: 50%;\n",
              "      cursor: pointer;\n",
              "      display: none;\n",
              "      fill: #1967D2;\n",
              "      height: 32px;\n",
              "      padding: 0 0 0 0;\n",
              "      width: 32px;\n",
              "    }\n",
              "\n",
              "    .colab-df-convert:hover {\n",
              "      background-color: #E2EBFA;\n",
              "      box-shadow: 0px 1px 2px rgba(60, 64, 67, 0.3), 0px 1px 3px 1px rgba(60, 64, 67, 0.15);\n",
              "      fill: #174EA6;\n",
              "    }\n",
              "\n",
              "    [theme=dark] .colab-df-convert {\n",
              "      background-color: #3B4455;\n",
              "      fill: #D2E3FC;\n",
              "    }\n",
              "\n",
              "    [theme=dark] .colab-df-convert:hover {\n",
              "      background-color: #434B5C;\n",
              "      box-shadow: 0px 1px 3px 1px rgba(0, 0, 0, 0.15);\n",
              "      filter: drop-shadow(0px 1px 2px rgba(0, 0, 0, 0.3));\n",
              "      fill: #FFFFFF;\n",
              "    }\n",
              "  </style>\n",
              "\n",
              "      <script>\n",
              "        const buttonEl =\n",
              "          document.querySelector('#df-0de51151-c75e-400d-b247-bd8beadd5cdb button.colab-df-convert');\n",
              "        buttonEl.style.display =\n",
              "          google.colab.kernel.accessAllowed ? 'block' : 'none';\n",
              "\n",
              "        async function convertToInteractive(key) {\n",
              "          const element = document.querySelector('#df-0de51151-c75e-400d-b247-bd8beadd5cdb');\n",
              "          const dataTable =\n",
              "            await google.colab.kernel.invokeFunction('convertToInteractive',\n",
              "                                                     [key], {});\n",
              "          if (!dataTable) return;\n",
              "\n",
              "          const docLinkHtml = 'Like what you see? Visit the ' +\n",
              "            '<a target=\"_blank\" href=https://colab.research.google.com/notebooks/data_table.ipynb>data table notebook</a>'\n",
              "            + ' to learn more about interactive tables.';\n",
              "          element.innerHTML = '';\n",
              "          dataTable['output_type'] = 'display_data';\n",
              "          await google.colab.output.renderOutput(dataTable, element);\n",
              "          const docLink = document.createElement('div');\n",
              "          docLink.innerHTML = docLinkHtml;\n",
              "          element.appendChild(docLink);\n",
              "        }\n",
              "      </script>\n",
              "    </div>\n",
              "  </div>\n",
              "  "
            ]
          },
          "metadata": {},
          "execution_count": 36
        }
      ]
    },
    {
      "cell_type": "code",
      "source": [
        "for i in chaves:\n",
        "  print(df[i].value_counts())"
      ],
      "metadata": {
        "colab": {
          "base_uri": "https://localhost:8080/"
        },
        "id": "jAhssZttCnHX",
        "outputId": "1d3823b6-3572-46ca-989a-0aa454e9198a"
      },
      "execution_count": 37,
      "outputs": [
        {
          "output_type": "stream",
          "name": "stdout",
          "text": [
            "2768    14\n",
            "2749    13\n",
            "1372    13\n",
            "1746    13\n",
            "1891    13\n",
            "        ..\n",
            "987      1\n",
            "3114     1\n",
            "3113     1\n",
            "3112     1\n",
            "993      1\n",
            "Name: ID_CLIENTE, Length: 4076, dtype: int64\n",
            "d8:c6:78:5b:f6:80    14\n",
            "10:72:23:be:a7:ba    13\n",
            "d8:c6:78:3d:f0:38    13\n",
            "10:72:23:46:7c:c3    13\n",
            "c0:3d:d9:86:d1:50    13\n",
            "                     ..\n",
            "10:72:23:81:38:ec     1\n",
            "ac:c6:62:18:68:29     1\n",
            "98:7e:ca:27:14:bf     1\n",
            "d8:c6:78:05:55:08     1\n",
            "ac:c6:62:d4:be:6b     1\n",
            "Name: AP, Length: 4076, dtype: int64\n",
            "00:7c:2d:6b:35:0b    4\n",
            "30:4b:07:44:94:fb    2\n",
            "5c:c9:d3:b0:f5:2b    2\n",
            "0c:cb:85:c2:2e:6b    2\n",
            "dc:b7:2e:01:9f:b2    2\n",
            "                    ..\n",
            "00:1a:3f:b6:1c:d1    1\n",
            "00:9e:ee:16:26:60    1\n",
            "60:3c:ee:57:ee:79    1\n",
            "48:49:c7:95:06:38    1\n",
            "54:f1:5f:61:92:60    1\n",
            "Name: STA, Length: 9959, dtype: int64\n"
          ]
        }
      ]
    },
    {
      "cell_type": "code",
      "source": [
        "df.info()"
      ],
      "metadata": {
        "colab": {
          "base_uri": "https://localhost:8080/"
        },
        "id": "ZK1pk_wPeKAc",
        "outputId": "30c2002e-1aa8-4f36-d880-3a7908fa84f2"
      },
      "execution_count": 38,
      "outputs": [
        {
          "output_type": "stream",
          "name": "stdout",
          "text": [
            "<class 'pandas.core.frame.DataFrame'>\n",
            "RangeIndex: 10000 entries, 0 to 9999\n",
            "Data columns (total 8 columns):\n",
            " #   Column       Non-Null Count  Dtype \n",
            "---  ------       --------------  ----- \n",
            " 0   AP           10000 non-null  object\n",
            " 1   STA          10000 non-null  object\n",
            " 2   RSSI_DBM     10000 non-null  int64 \n",
            " 3   TX_PHY_RATE  10000 non-null  int64 \n",
            " 4   CCA_INT      10000 non-null  int64 \n",
            " 5   FQ           9984 non-null   object\n",
            " 6   ID_CLIENTE   10000 non-null  int64 \n",
            " 7   PLANO        10000 non-null  object\n",
            "dtypes: int64(4), object(4)\n",
            "memory usage: 625.1+ KB\n"
          ]
        }
      ]
    },
    {
      "cell_type": "code",
      "source": [
        "df[numericas].describe()"
      ],
      "metadata": {
        "colab": {
          "base_uri": "https://localhost:8080/",
          "height": 300
        },
        "id": "ME3ygJ9reWwe",
        "outputId": "cbb06c66-e403-4724-d43f-a0f73dd1656a"
      },
      "execution_count": 39,
      "outputs": [
        {
          "output_type": "execute_result",
          "data": {
            "text/plain": [
              "       TX_PHY_RATE       CCA_INT\n",
              "count  10000.00000  10000.000000\n",
              "mean     188.13870     56.162800\n",
              "std      229.19913    110.395284\n",
              "min        0.00000      0.000000\n",
              "25%       65.00000      0.000000\n",
              "50%       72.00000      2.000000\n",
              "75%      260.00000     60.000000\n",
              "max     1560.00000    810.000000"
            ],
            "text/html": [
              "\n",
              "  <div id=\"df-568cba66-cc1d-45ba-b57a-cec8412c6c0a\">\n",
              "    <div class=\"colab-df-container\">\n",
              "      <div>\n",
              "<style scoped>\n",
              "    .dataframe tbody tr th:only-of-type {\n",
              "        vertical-align: middle;\n",
              "    }\n",
              "\n",
              "    .dataframe tbody tr th {\n",
              "        vertical-align: top;\n",
              "    }\n",
              "\n",
              "    .dataframe thead th {\n",
              "        text-align: right;\n",
              "    }\n",
              "</style>\n",
              "<table border=\"1\" class=\"dataframe\">\n",
              "  <thead>\n",
              "    <tr style=\"text-align: right;\">\n",
              "      <th></th>\n",
              "      <th>TX_PHY_RATE</th>\n",
              "      <th>CCA_INT</th>\n",
              "    </tr>\n",
              "  </thead>\n",
              "  <tbody>\n",
              "    <tr>\n",
              "      <th>count</th>\n",
              "      <td>10000.00000</td>\n",
              "      <td>10000.000000</td>\n",
              "    </tr>\n",
              "    <tr>\n",
              "      <th>mean</th>\n",
              "      <td>188.13870</td>\n",
              "      <td>56.162800</td>\n",
              "    </tr>\n",
              "    <tr>\n",
              "      <th>std</th>\n",
              "      <td>229.19913</td>\n",
              "      <td>110.395284</td>\n",
              "    </tr>\n",
              "    <tr>\n",
              "      <th>min</th>\n",
              "      <td>0.00000</td>\n",
              "      <td>0.000000</td>\n",
              "    </tr>\n",
              "    <tr>\n",
              "      <th>25%</th>\n",
              "      <td>65.00000</td>\n",
              "      <td>0.000000</td>\n",
              "    </tr>\n",
              "    <tr>\n",
              "      <th>50%</th>\n",
              "      <td>72.00000</td>\n",
              "      <td>2.000000</td>\n",
              "    </tr>\n",
              "    <tr>\n",
              "      <th>75%</th>\n",
              "      <td>260.00000</td>\n",
              "      <td>60.000000</td>\n",
              "    </tr>\n",
              "    <tr>\n",
              "      <th>max</th>\n",
              "      <td>1560.00000</td>\n",
              "      <td>810.000000</td>\n",
              "    </tr>\n",
              "  </tbody>\n",
              "</table>\n",
              "</div>\n",
              "      <button class=\"colab-df-convert\" onclick=\"convertToInteractive('df-568cba66-cc1d-45ba-b57a-cec8412c6c0a')\"\n",
              "              title=\"Convert this dataframe to an interactive table.\"\n",
              "              style=\"display:none;\">\n",
              "        \n",
              "  <svg xmlns=\"http://www.w3.org/2000/svg\" height=\"24px\"viewBox=\"0 0 24 24\"\n",
              "       width=\"24px\">\n",
              "    <path d=\"M0 0h24v24H0V0z\" fill=\"none\"/>\n",
              "    <path d=\"M18.56 5.44l.94 2.06.94-2.06 2.06-.94-2.06-.94-.94-2.06-.94 2.06-2.06.94zm-11 1L8.5 8.5l.94-2.06 2.06-.94-2.06-.94L8.5 2.5l-.94 2.06-2.06.94zm10 10l.94 2.06.94-2.06 2.06-.94-2.06-.94-.94-2.06-.94 2.06-2.06.94z\"/><path d=\"M17.41 7.96l-1.37-1.37c-.4-.4-.92-.59-1.43-.59-.52 0-1.04.2-1.43.59L10.3 9.45l-7.72 7.72c-.78.78-.78 2.05 0 2.83L4 21.41c.39.39.9.59 1.41.59.51 0 1.02-.2 1.41-.59l7.78-7.78 2.81-2.81c.8-.78.8-2.07 0-2.86zM5.41 20L4 18.59l7.72-7.72 1.47 1.35L5.41 20z\"/>\n",
              "  </svg>\n",
              "      </button>\n",
              "      \n",
              "  <style>\n",
              "    .colab-df-container {\n",
              "      display:flex;\n",
              "      flex-wrap:wrap;\n",
              "      gap: 12px;\n",
              "    }\n",
              "\n",
              "    .colab-df-convert {\n",
              "      background-color: #E8F0FE;\n",
              "      border: none;\n",
              "      border-radius: 50%;\n",
              "      cursor: pointer;\n",
              "      display: none;\n",
              "      fill: #1967D2;\n",
              "      height: 32px;\n",
              "      padding: 0 0 0 0;\n",
              "      width: 32px;\n",
              "    }\n",
              "\n",
              "    .colab-df-convert:hover {\n",
              "      background-color: #E2EBFA;\n",
              "      box-shadow: 0px 1px 2px rgba(60, 64, 67, 0.3), 0px 1px 3px 1px rgba(60, 64, 67, 0.15);\n",
              "      fill: #174EA6;\n",
              "    }\n",
              "\n",
              "    [theme=dark] .colab-df-convert {\n",
              "      background-color: #3B4455;\n",
              "      fill: #D2E3FC;\n",
              "    }\n",
              "\n",
              "    [theme=dark] .colab-df-convert:hover {\n",
              "      background-color: #434B5C;\n",
              "      box-shadow: 0px 1px 3px 1px rgba(0, 0, 0, 0.15);\n",
              "      filter: drop-shadow(0px 1px 2px rgba(0, 0, 0, 0.3));\n",
              "      fill: #FFFFFF;\n",
              "    }\n",
              "  </style>\n",
              "\n",
              "      <script>\n",
              "        const buttonEl =\n",
              "          document.querySelector('#df-568cba66-cc1d-45ba-b57a-cec8412c6c0a button.colab-df-convert');\n",
              "        buttonEl.style.display =\n",
              "          google.colab.kernel.accessAllowed ? 'block' : 'none';\n",
              "\n",
              "        async function convertToInteractive(key) {\n",
              "          const element = document.querySelector('#df-568cba66-cc1d-45ba-b57a-cec8412c6c0a');\n",
              "          const dataTable =\n",
              "            await google.colab.kernel.invokeFunction('convertToInteractive',\n",
              "                                                     [key], {});\n",
              "          if (!dataTable) return;\n",
              "\n",
              "          const docLinkHtml = 'Like what you see? Visit the ' +\n",
              "            '<a target=\"_blank\" href=https://colab.research.google.com/notebooks/data_table.ipynb>data table notebook</a>'\n",
              "            + ' to learn more about interactive tables.';\n",
              "          element.innerHTML = '';\n",
              "          dataTable['output_type'] = 'display_data';\n",
              "          await google.colab.output.renderOutput(dataTable, element);\n",
              "          const docLink = document.createElement('div');\n",
              "          docLink.innerHTML = docLinkHtml;\n",
              "          element.appendChild(docLink);\n",
              "        }\n",
              "      </script>\n",
              "    </div>\n",
              "  </div>\n",
              "  "
            ]
          },
          "metadata": {},
          "execution_count": 39
        }
      ]
    },
    {
      "cell_type": "markdown",
      "source": [
        "### 2. Tratamento dos dados"
      ],
      "metadata": {
        "id": "gLjIk4M07W6j"
      }
    },
    {
      "cell_type": "code",
      "source": [
        "df['cut_SSI'] = pd.cut(df['RSSI_DBM'], 5) # separação em bins para melhor entendimento da variável"
      ],
      "metadata": {
        "id": "8qoFDPZXGn2F"
      },
      "execution_count": 40,
      "outputs": []
    },
    {
      "cell_type": "code",
      "source": [
        "print(f'O dataframe possui um total de {df.isna().sum()[1]} valores faltantes')"
      ],
      "metadata": {
        "colab": {
          "base_uri": "https://localhost:8080/"
        },
        "id": "y7_DsHBEhR9s",
        "outputId": "ad25b039-13fd-4e88-9650-5f89cc469700"
      },
      "execution_count": 99,
      "outputs": [
        {
          "output_type": "stream",
          "name": "stdout",
          "text": [
            "O dataframe possui um total de 0 valores faltantes\n"
          ]
        }
      ]
    },
    {
      "cell_type": "code",
      "source": [
        "missing_fq = pd.isna(df['FQ'])\n",
        "\n",
        "df[missing_fq]"
      ],
      "metadata": {
        "colab": {
          "base_uri": "https://localhost:8080/",
          "height": 551
        },
        "id": "7AzdGJjv4V4w",
        "outputId": "bccc56dd-f655-4cba-ef47-0a7ce0f0b180"
      },
      "execution_count": 41,
      "outputs": [
        {
          "output_type": "execute_result",
          "data": {
            "text/plain": [
              "                     AP                STA  RSSI_DBM  TX_PHY_RATE  CCA_INT  \\\n",
              "1317  10:72:23:48:95:f3  a4:33:d7:77:63:fd       -51          683       27   \n",
              "3161  94:ea:ea:87:ce:6b  a4:33:d7:55:54:fd       -72          585       18   \n",
              "3173  78:e9:cf:0a:d9:cf  d8:c6:78:8d:63:ba       -61          780        0   \n",
              "4689  cc:ed:dc:37:c4:55  74:40:be:93:04:5a       -43           72        0   \n",
              "4691  cc:ed:dc:37:c4:55  74:40:be:92:e9:64       -60           72        0   \n",
              "6129  d8:c6:78:1f:88:a6  d4:63:c6:cb:6e:df       -62           65        0   \n",
              "6130  d8:c6:78:1f:88:a6  d4:63:c6:c7:d0:e9       -79           72        0   \n",
              "6131  d8:c6:78:1f:88:a6  30:cb:f8:13:f5:97       -72           43        0   \n",
              "6132  d8:c6:78:1f:88:a6  00:1c:7b:76:bd:81       -74           72        0   \n",
              "6133  d8:c6:78:1f:88:a6  00:17:c4:33:05:9f       -50           48        0   \n",
              "6134  d8:c6:78:1f:88:a6  00:1f:3c:d9:f2:8b       -69           54        0   \n",
              "6135  d8:c6:78:1f:88:a6  94:0c:6d:82:49:28       -71           72        0   \n",
              "7065  a4:33:d7:77:7b:f5  64:1c:ae:f6:3c:f4       -77          144        0   \n",
              "7068  a4:33:d7:77:7b:f5  98:39:8e:96:4b:0f       -64           72        0   \n",
              "8381  f4:54:20:83:e6:af  d8:c6:78:3f:ef:0e       -61          683        2   \n",
              "9216  a4:33:d7:77:8f:01  50:ec:50:73:41:67       -79            1        0   \n",
              "\n",
              "       FQ  ID_CLIENTE     PLANO           cut_SSI  \n",
              "1317  NaN         573  300 Mbps    (-57.0, -38.0]  \n",
              "3161  NaN        1313  300 Mbps    (-76.0, -57.0]  \n",
              "3173  NaN        1320  100 Mbps    (-76.0, -57.0]  \n",
              "4689  NaN        1911  100 Mbps    (-57.0, -38.0]  \n",
              "4691  NaN        1911  100 Mbps    (-76.0, -57.0]  \n",
              "6129  NaN        2494  200 Mbps    (-76.0, -57.0]  \n",
              "6130  NaN        2494  200 Mbps  (-95.095, -76.0]  \n",
              "6131  NaN        2494  200 Mbps    (-76.0, -57.0]  \n",
              "6132  NaN        2494  200 Mbps    (-76.0, -57.0]  \n",
              "6133  NaN        2494  200 Mbps    (-57.0, -38.0]  \n",
              "6134  NaN        2494  200 Mbps    (-76.0, -57.0]  \n",
              "6135  NaN        2494  200 Mbps    (-76.0, -57.0]  \n",
              "7065  NaN        2847  200 Mbps  (-95.095, -76.0]  \n",
              "7068  NaN        2847  200 Mbps    (-76.0, -57.0]  \n",
              "8381  NaN        3403  300 Mbps    (-76.0, -57.0]  \n",
              "9216  NaN        3739  100 Mbps  (-95.095, -76.0]  "
            ],
            "text/html": [
              "\n",
              "  <div id=\"df-42abe20e-cf9f-4f0c-b9ea-6ea7c325d3ab\">\n",
              "    <div class=\"colab-df-container\">\n",
              "      <div>\n",
              "<style scoped>\n",
              "    .dataframe tbody tr th:only-of-type {\n",
              "        vertical-align: middle;\n",
              "    }\n",
              "\n",
              "    .dataframe tbody tr th {\n",
              "        vertical-align: top;\n",
              "    }\n",
              "\n",
              "    .dataframe thead th {\n",
              "        text-align: right;\n",
              "    }\n",
              "</style>\n",
              "<table border=\"1\" class=\"dataframe\">\n",
              "  <thead>\n",
              "    <tr style=\"text-align: right;\">\n",
              "      <th></th>\n",
              "      <th>AP</th>\n",
              "      <th>STA</th>\n",
              "      <th>RSSI_DBM</th>\n",
              "      <th>TX_PHY_RATE</th>\n",
              "      <th>CCA_INT</th>\n",
              "      <th>FQ</th>\n",
              "      <th>ID_CLIENTE</th>\n",
              "      <th>PLANO</th>\n",
              "      <th>cut_SSI</th>\n",
              "    </tr>\n",
              "  </thead>\n",
              "  <tbody>\n",
              "    <tr>\n",
              "      <th>1317</th>\n",
              "      <td>10:72:23:48:95:f3</td>\n",
              "      <td>a4:33:d7:77:63:fd</td>\n",
              "      <td>-51</td>\n",
              "      <td>683</td>\n",
              "      <td>27</td>\n",
              "      <td>NaN</td>\n",
              "      <td>573</td>\n",
              "      <td>300 Mbps</td>\n",
              "      <td>(-57.0, -38.0]</td>\n",
              "    </tr>\n",
              "    <tr>\n",
              "      <th>3161</th>\n",
              "      <td>94:ea:ea:87:ce:6b</td>\n",
              "      <td>a4:33:d7:55:54:fd</td>\n",
              "      <td>-72</td>\n",
              "      <td>585</td>\n",
              "      <td>18</td>\n",
              "      <td>NaN</td>\n",
              "      <td>1313</td>\n",
              "      <td>300 Mbps</td>\n",
              "      <td>(-76.0, -57.0]</td>\n",
              "    </tr>\n",
              "    <tr>\n",
              "      <th>3173</th>\n",
              "      <td>78:e9:cf:0a:d9:cf</td>\n",
              "      <td>d8:c6:78:8d:63:ba</td>\n",
              "      <td>-61</td>\n",
              "      <td>780</td>\n",
              "      <td>0</td>\n",
              "      <td>NaN</td>\n",
              "      <td>1320</td>\n",
              "      <td>100 Mbps</td>\n",
              "      <td>(-76.0, -57.0]</td>\n",
              "    </tr>\n",
              "    <tr>\n",
              "      <th>4689</th>\n",
              "      <td>cc:ed:dc:37:c4:55</td>\n",
              "      <td>74:40:be:93:04:5a</td>\n",
              "      <td>-43</td>\n",
              "      <td>72</td>\n",
              "      <td>0</td>\n",
              "      <td>NaN</td>\n",
              "      <td>1911</td>\n",
              "      <td>100 Mbps</td>\n",
              "      <td>(-57.0, -38.0]</td>\n",
              "    </tr>\n",
              "    <tr>\n",
              "      <th>4691</th>\n",
              "      <td>cc:ed:dc:37:c4:55</td>\n",
              "      <td>74:40:be:92:e9:64</td>\n",
              "      <td>-60</td>\n",
              "      <td>72</td>\n",
              "      <td>0</td>\n",
              "      <td>NaN</td>\n",
              "      <td>1911</td>\n",
              "      <td>100 Mbps</td>\n",
              "      <td>(-76.0, -57.0]</td>\n",
              "    </tr>\n",
              "    <tr>\n",
              "      <th>6129</th>\n",
              "      <td>d8:c6:78:1f:88:a6</td>\n",
              "      <td>d4:63:c6:cb:6e:df</td>\n",
              "      <td>-62</td>\n",
              "      <td>65</td>\n",
              "      <td>0</td>\n",
              "      <td>NaN</td>\n",
              "      <td>2494</td>\n",
              "      <td>200 Mbps</td>\n",
              "      <td>(-76.0, -57.0]</td>\n",
              "    </tr>\n",
              "    <tr>\n",
              "      <th>6130</th>\n",
              "      <td>d8:c6:78:1f:88:a6</td>\n",
              "      <td>d4:63:c6:c7:d0:e9</td>\n",
              "      <td>-79</td>\n",
              "      <td>72</td>\n",
              "      <td>0</td>\n",
              "      <td>NaN</td>\n",
              "      <td>2494</td>\n",
              "      <td>200 Mbps</td>\n",
              "      <td>(-95.095, -76.0]</td>\n",
              "    </tr>\n",
              "    <tr>\n",
              "      <th>6131</th>\n",
              "      <td>d8:c6:78:1f:88:a6</td>\n",
              "      <td>30:cb:f8:13:f5:97</td>\n",
              "      <td>-72</td>\n",
              "      <td>43</td>\n",
              "      <td>0</td>\n",
              "      <td>NaN</td>\n",
              "      <td>2494</td>\n",
              "      <td>200 Mbps</td>\n",
              "      <td>(-76.0, -57.0]</td>\n",
              "    </tr>\n",
              "    <tr>\n",
              "      <th>6132</th>\n",
              "      <td>d8:c6:78:1f:88:a6</td>\n",
              "      <td>00:1c:7b:76:bd:81</td>\n",
              "      <td>-74</td>\n",
              "      <td>72</td>\n",
              "      <td>0</td>\n",
              "      <td>NaN</td>\n",
              "      <td>2494</td>\n",
              "      <td>200 Mbps</td>\n",
              "      <td>(-76.0, -57.0]</td>\n",
              "    </tr>\n",
              "    <tr>\n",
              "      <th>6133</th>\n",
              "      <td>d8:c6:78:1f:88:a6</td>\n",
              "      <td>00:17:c4:33:05:9f</td>\n",
              "      <td>-50</td>\n",
              "      <td>48</td>\n",
              "      <td>0</td>\n",
              "      <td>NaN</td>\n",
              "      <td>2494</td>\n",
              "      <td>200 Mbps</td>\n",
              "      <td>(-57.0, -38.0]</td>\n",
              "    </tr>\n",
              "    <tr>\n",
              "      <th>6134</th>\n",
              "      <td>d8:c6:78:1f:88:a6</td>\n",
              "      <td>00:1f:3c:d9:f2:8b</td>\n",
              "      <td>-69</td>\n",
              "      <td>54</td>\n",
              "      <td>0</td>\n",
              "      <td>NaN</td>\n",
              "      <td>2494</td>\n",
              "      <td>200 Mbps</td>\n",
              "      <td>(-76.0, -57.0]</td>\n",
              "    </tr>\n",
              "    <tr>\n",
              "      <th>6135</th>\n",
              "      <td>d8:c6:78:1f:88:a6</td>\n",
              "      <td>94:0c:6d:82:49:28</td>\n",
              "      <td>-71</td>\n",
              "      <td>72</td>\n",
              "      <td>0</td>\n",
              "      <td>NaN</td>\n",
              "      <td>2494</td>\n",
              "      <td>200 Mbps</td>\n",
              "      <td>(-76.0, -57.0]</td>\n",
              "    </tr>\n",
              "    <tr>\n",
              "      <th>7065</th>\n",
              "      <td>a4:33:d7:77:7b:f5</td>\n",
              "      <td>64:1c:ae:f6:3c:f4</td>\n",
              "      <td>-77</td>\n",
              "      <td>144</td>\n",
              "      <td>0</td>\n",
              "      <td>NaN</td>\n",
              "      <td>2847</td>\n",
              "      <td>200 Mbps</td>\n",
              "      <td>(-95.095, -76.0]</td>\n",
              "    </tr>\n",
              "    <tr>\n",
              "      <th>7068</th>\n",
              "      <td>a4:33:d7:77:7b:f5</td>\n",
              "      <td>98:39:8e:96:4b:0f</td>\n",
              "      <td>-64</td>\n",
              "      <td>72</td>\n",
              "      <td>0</td>\n",
              "      <td>NaN</td>\n",
              "      <td>2847</td>\n",
              "      <td>200 Mbps</td>\n",
              "      <td>(-76.0, -57.0]</td>\n",
              "    </tr>\n",
              "    <tr>\n",
              "      <th>8381</th>\n",
              "      <td>f4:54:20:83:e6:af</td>\n",
              "      <td>d8:c6:78:3f:ef:0e</td>\n",
              "      <td>-61</td>\n",
              "      <td>683</td>\n",
              "      <td>2</td>\n",
              "      <td>NaN</td>\n",
              "      <td>3403</td>\n",
              "      <td>300 Mbps</td>\n",
              "      <td>(-76.0, -57.0]</td>\n",
              "    </tr>\n",
              "    <tr>\n",
              "      <th>9216</th>\n",
              "      <td>a4:33:d7:77:8f:01</td>\n",
              "      <td>50:ec:50:73:41:67</td>\n",
              "      <td>-79</td>\n",
              "      <td>1</td>\n",
              "      <td>0</td>\n",
              "      <td>NaN</td>\n",
              "      <td>3739</td>\n",
              "      <td>100 Mbps</td>\n",
              "      <td>(-95.095, -76.0]</td>\n",
              "    </tr>\n",
              "  </tbody>\n",
              "</table>\n",
              "</div>\n",
              "      <button class=\"colab-df-convert\" onclick=\"convertToInteractive('df-42abe20e-cf9f-4f0c-b9ea-6ea7c325d3ab')\"\n",
              "              title=\"Convert this dataframe to an interactive table.\"\n",
              "              style=\"display:none;\">\n",
              "        \n",
              "  <svg xmlns=\"http://www.w3.org/2000/svg\" height=\"24px\"viewBox=\"0 0 24 24\"\n",
              "       width=\"24px\">\n",
              "    <path d=\"M0 0h24v24H0V0z\" fill=\"none\"/>\n",
              "    <path d=\"M18.56 5.44l.94 2.06.94-2.06 2.06-.94-2.06-.94-.94-2.06-.94 2.06-2.06.94zm-11 1L8.5 8.5l.94-2.06 2.06-.94-2.06-.94L8.5 2.5l-.94 2.06-2.06.94zm10 10l.94 2.06.94-2.06 2.06-.94-2.06-.94-.94-2.06-.94 2.06-2.06.94z\"/><path d=\"M17.41 7.96l-1.37-1.37c-.4-.4-.92-.59-1.43-.59-.52 0-1.04.2-1.43.59L10.3 9.45l-7.72 7.72c-.78.78-.78 2.05 0 2.83L4 21.41c.39.39.9.59 1.41.59.51 0 1.02-.2 1.41-.59l7.78-7.78 2.81-2.81c.8-.78.8-2.07 0-2.86zM5.41 20L4 18.59l7.72-7.72 1.47 1.35L5.41 20z\"/>\n",
              "  </svg>\n",
              "      </button>\n",
              "      \n",
              "  <style>\n",
              "    .colab-df-container {\n",
              "      display:flex;\n",
              "      flex-wrap:wrap;\n",
              "      gap: 12px;\n",
              "    }\n",
              "\n",
              "    .colab-df-convert {\n",
              "      background-color: #E8F0FE;\n",
              "      border: none;\n",
              "      border-radius: 50%;\n",
              "      cursor: pointer;\n",
              "      display: none;\n",
              "      fill: #1967D2;\n",
              "      height: 32px;\n",
              "      padding: 0 0 0 0;\n",
              "      width: 32px;\n",
              "    }\n",
              "\n",
              "    .colab-df-convert:hover {\n",
              "      background-color: #E2EBFA;\n",
              "      box-shadow: 0px 1px 2px rgba(60, 64, 67, 0.3), 0px 1px 3px 1px rgba(60, 64, 67, 0.15);\n",
              "      fill: #174EA6;\n",
              "    }\n",
              "\n",
              "    [theme=dark] .colab-df-convert {\n",
              "      background-color: #3B4455;\n",
              "      fill: #D2E3FC;\n",
              "    }\n",
              "\n",
              "    [theme=dark] .colab-df-convert:hover {\n",
              "      background-color: #434B5C;\n",
              "      box-shadow: 0px 1px 3px 1px rgba(0, 0, 0, 0.15);\n",
              "      filter: drop-shadow(0px 1px 2px rgba(0, 0, 0, 0.3));\n",
              "      fill: #FFFFFF;\n",
              "    }\n",
              "  </style>\n",
              "\n",
              "      <script>\n",
              "        const buttonEl =\n",
              "          document.querySelector('#df-42abe20e-cf9f-4f0c-b9ea-6ea7c325d3ab button.colab-df-convert');\n",
              "        buttonEl.style.display =\n",
              "          google.colab.kernel.accessAllowed ? 'block' : 'none';\n",
              "\n",
              "        async function convertToInteractive(key) {\n",
              "          const element = document.querySelector('#df-42abe20e-cf9f-4f0c-b9ea-6ea7c325d3ab');\n",
              "          const dataTable =\n",
              "            await google.colab.kernel.invokeFunction('convertToInteractive',\n",
              "                                                     [key], {});\n",
              "          if (!dataTable) return;\n",
              "\n",
              "          const docLinkHtml = 'Like what you see? Visit the ' +\n",
              "            '<a target=\"_blank\" href=https://colab.research.google.com/notebooks/data_table.ipynb>data table notebook</a>'\n",
              "            + ' to learn more about interactive tables.';\n",
              "          element.innerHTML = '';\n",
              "          dataTable['output_type'] = 'display_data';\n",
              "          await google.colab.output.renderOutput(dataTable, element);\n",
              "          const docLink = document.createElement('div');\n",
              "          docLink.innerHTML = docLinkHtml;\n",
              "          element.appendChild(docLink);\n",
              "        }\n",
              "      </script>\n",
              "    </div>\n",
              "  </div>\n",
              "  "
            ]
          },
          "metadata": {},
          "execution_count": 41
        }
      ]
    },
    {
      "cell_type": "code",
      "source": [
        "df['FQ'] = df['FQ'].fillna(df['FQ'].mode()[0]) # preenchimento dos valores com a moda da frequência"
      ],
      "metadata": {
        "id": "rCW9XO7K6w-6"
      },
      "execution_count": 42,
      "outputs": []
    },
    {
      "cell_type": "code",
      "source": [
        "df['PLANO'] = df['PLANO'].map(lambda x : x.split()[0])"
      ],
      "metadata": {
        "id": "aooyP4lu7es7"
      },
      "execution_count": 43,
      "outputs": []
    },
    {
      "cell_type": "code",
      "source": [
        "df['PLANO'] = df['PLANO'].astype('int64')"
      ],
      "metadata": {
        "id": "B1YKqneY9dG7"
      },
      "execution_count": 44,
      "outputs": []
    },
    {
      "cell_type": "code",
      "source": [
        "df.info()"
      ],
      "metadata": {
        "colab": {
          "base_uri": "https://localhost:8080/"
        },
        "id": "6hFBHlFt8RB_",
        "outputId": "903dd4d1-9e58-489c-fb81-f5ef15b38b5d"
      },
      "execution_count": 45,
      "outputs": [
        {
          "output_type": "stream",
          "name": "stdout",
          "text": [
            "<class 'pandas.core.frame.DataFrame'>\n",
            "RangeIndex: 10000 entries, 0 to 9999\n",
            "Data columns (total 9 columns):\n",
            " #   Column       Non-Null Count  Dtype   \n",
            "---  ------       --------------  -----   \n",
            " 0   AP           10000 non-null  object  \n",
            " 1   STA          10000 non-null  object  \n",
            " 2   RSSI_DBM     10000 non-null  int64   \n",
            " 3   TX_PHY_RATE  10000 non-null  int64   \n",
            " 4   CCA_INT      10000 non-null  int64   \n",
            " 5   FQ           10000 non-null  object  \n",
            " 6   ID_CLIENTE   10000 non-null  int64   \n",
            " 7   PLANO        10000 non-null  int64   \n",
            " 8   cut_SSI      10000 non-null  category\n",
            "dtypes: category(1), int64(5), object(3)\n",
            "memory usage: 635.1+ KB\n"
          ]
        }
      ]
    },
    {
      "cell_type": "markdown",
      "source": [
        "### Análise Univariada"
      ],
      "metadata": {
        "id": "dug0j91KjMOs"
      }
    },
    {
      "cell_type": "code",
      "source": [
        "sns.histplot(data = df['TX_PHY_RATE'])\n",
        "plt.title('Distribuição da velocidade em Mb/s na interface wifi')\n",
        "plt.annotate('*quanto maior, melhor', xy = (1050, 500))\n",
        "plt.show()"
      ],
      "metadata": {
        "colab": {
          "base_uri": "https://localhost:8080/",
          "height": 296
        },
        "id": "jYPkB3hhfGdf",
        "outputId": "91cb8de9-f1e3-4e76-abd7-075e37917933"
      },
      "execution_count": 46,
      "outputs": [
        {
          "output_type": "display_data",
          "data": {
            "text/plain": [
              "<Figure size 432x288 with 1 Axes>"
            ],
            "image/png": "[encoded data removed]"
          },
          "metadata": {
            "needs_background": "light"
          }
        }
      ]
    },
    {
      "cell_type": "code",
      "source": [
        "sns.histplot(data = df['CCA_INT'])\n",
        "plt.title('Tempo de processamento')\n",
        "plt.show()"
      ],
      "metadata": {
        "colab": {
          "base_uri": "https://localhost:8080/",
          "height": 296
        },
        "id": "yR8Lm1DyjByr",
        "outputId": "882f1ce1-e9da-4ec8-d2bd-fb09d0280fcc"
      },
      "execution_count": 47,
      "outputs": [
        {
          "output_type": "display_data",
          "data": {
            "text/plain": [
              "<Figure size 432x288 with 1 Axes>"
            ],
            "image/png": "[encoded data removed]"
          },
          "metadata": {
            "needs_background": "light"
          }
        }
      ]
    },
    {
      "cell_type": "code",
      "source": [
        "sns.histplot(data = df['RSSI_DBM'])\n",
        "plt.title('Nível de potência')\n",
        "plt.show()"
      ],
      "metadata": {
        "colab": {
          "base_uri": "https://localhost:8080/",
          "height": 296
        },
        "id": "Ae_I7f18i3M8",
        "outputId": "1ac89a51-f36b-4c6e-acc4-a5af45bfe880"
      },
      "execution_count": 48,
      "outputs": [
        {
          "output_type": "display_data",
          "data": {
            "text/plain": [
              "<Figure size 432x288 with 1 Axes>"
            ],
            "image/png": "[encoded data removed]"
          },
          "metadata": {
            "needs_background": "light"
          }
        }
      ]
    },
    {
      "cell_type": "code",
      "source": [
        "sns.countplot(x = df['cut_SSI'])\n",
        "plt.title('Binned SSI')\n",
        "plt.xticks(rotation = 75)\n",
        "plt.show()"
      ],
      "metadata": {
        "colab": {
          "base_uri": "https://localhost:8080/",
          "height": 365
        },
        "id": "FJz59Ow_HBbr",
        "outputId": "91404ffa-3ad7-4baa-a3e1-b989d705f628"
      },
      "execution_count": 49,
      "outputs": [
        {
          "output_type": "display_data",
          "data": {
            "text/plain": [
              "<Figure size 432x288 with 1 Axes>"
            ],
            "image/png": "[encoded data removed]"
          },
          "metadata": {
            "needs_background": "light"
          }
        }
      ]
    },
    {
      "cell_type": "code",
      "source": [
        "df['FQ'].value_counts()"
      ],
      "metadata": {
        "colab": {
          "base_uri": "https://localhost:8080/"
        },
        "id": "-H4g4fJyj7j5",
        "outputId": "33b89e10-16c1-402f-daee-2692b1a8a27e"
      },
      "execution_count": 50,
      "outputs": [
        {
          "output_type": "execute_result",
          "data": {
            "text/plain": [
              "2,4G     6044\n",
              "5G BS    1986\n",
              "5G       1970\n",
              "Name: FQ, dtype: int64"
            ]
          },
          "metadata": {},
          "execution_count": 50
        }
      ]
    },
    {
      "cell_type": "code",
      "source": [
        "sns.countplot(data = df, x = 'FQ')\n",
        "plt.title('Frequências')\n",
        "plt.show()"
      ],
      "metadata": {
        "colab": {
          "base_uri": "https://localhost:8080/",
          "height": 295
        },
        "id": "XKyd1lC0jSMH",
        "outputId": "85a0554d-c0e2-4859-b1d8-413e0a65bbd3"
      },
      "execution_count": 51,
      "outputs": [
        {
          "output_type": "display_data",
          "data": {
            "text/plain": [
              "<Figure size 432x288 with 1 Axes>"
            ],
            "image/png": "[encoded data removed]"
          },
          "metadata": {
            "needs_background": "light"
          }
        }
      ]
    },
    {
      "cell_type": "code",
      "source": [
        "df['PLANO'].value_counts()"
      ],
      "metadata": {
        "colab": {
          "base_uri": "https://localhost:8080/"
        },
        "id": "kGSM6yfMkBgg",
        "outputId": "7492b580-c07d-494d-c42b-0fb2a970c493"
      },
      "execution_count": 52,
      "outputs": [
        {
          "output_type": "execute_result",
          "data": {
            "text/plain": [
              "100    2587\n",
              "50     2535\n",
              "200    2483\n",
              "300    2395\n",
              "Name: PLANO, dtype: int64"
            ]
          },
          "metadata": {},
          "execution_count": 52
        }
      ]
    },
    {
      "cell_type": "code",
      "source": [
        "sns.countplot(data = df, x = 'PLANO')\n",
        "plt.title('Plano')\n",
        "plt.show()"
      ],
      "metadata": {
        "colab": {
          "base_uri": "https://localhost:8080/",
          "height": 295
        },
        "id": "P2vqqif2jqi_",
        "outputId": "0bcedfcc-6416-400b-d6bb-b9d1cf7a1210"
      },
      "execution_count": 53,
      "outputs": [
        {
          "output_type": "display_data",
          "data": {
            "text/plain": [
              "<Figure size 432x288 with 1 Axes>"
            ],
            "image/png": "[encoded data removed]"
          },
          "metadata": {
            "needs_background": "light"
          }
        }
      ]
    },
    {
      "cell_type": "code",
      "source": [
        "df.groupby('PLANO').agg(TX_PHY_RATE = ('TX_PHY_RATE', 'mean'),\n",
        "                                CCA_INT = ('CCA_INT', 'mean'))"
      ],
      "metadata": {
        "colab": {
          "base_uri": "https://localhost:8080/",
          "height": 206
        },
        "id": "Owh1VH7qLZx_",
        "outputId": "8cd8ad1e-d23b-4559-d301-e3ee03a892b3"
      },
      "execution_count": 54,
      "outputs": [
        {
          "output_type": "execute_result",
          "data": {
            "text/plain": [
              "       TX_PHY_RATE    CCA_INT\n",
              "PLANO                        \n",
              "50      189.324260  55.723471\n",
              "100     192.923463  52.069192\n",
              "200     189.241240  58.645993\n",
              "300     180.572443  58.475157"
            ],
            "text/html": [
              "\n",
              "  <div id=\"df-37f60865-4457-4df0-a4c6-db622ce85fc5\">\n",
              "    <div class=\"colab-df-container\">\n",
              "      <div>\n",
              "<style scoped>\n",
              "    .dataframe tbody tr th:only-of-type {\n",
              "        vertical-align: middle;\n",
              "    }\n",
              "\n",
              "    .dataframe tbody tr th {\n",
              "        vertical-align: top;\n",
              "    }\n",
              "\n",
              "    .dataframe thead th {\n",
              "        text-align: right;\n",
              "    }\n",
              "</style>\n",
              "<table border=\"1\" class=\"dataframe\">\n",
              "  <thead>\n",
              "    <tr style=\"text-align: right;\">\n",
              "      <th></th>\n",
              "      <th>TX_PHY_RATE</th>\n",
              "      <th>CCA_INT</th>\n",
              "    </tr>\n",
              "    <tr>\n",
              "      <th>PLANO</th>\n",
              "      <th></th>\n",
              "      <th></th>\n",
              "    </tr>\n",
              "  </thead>\n",
              "  <tbody>\n",
              "    <tr>\n",
              "      <th>50</th>\n",
              "      <td>189.324260</td>\n",
              "      <td>55.723471</td>\n",
              "    </tr>\n",
              "    <tr>\n",
              "      <th>100</th>\n",
              "      <td>192.923463</td>\n",
              "      <td>52.069192</td>\n",
              "    </tr>\n",
              "    <tr>\n",
              "      <th>200</th>\n",
              "      <td>189.241240</td>\n",
              "      <td>58.645993</td>\n",
              "    </tr>\n",
              "    <tr>\n",
              "      <th>300</th>\n",
              "      <td>180.572443</td>\n",
              "      <td>58.475157</td>\n",
              "    </tr>\n",
              "  </tbody>\n",
              "</table>\n",
              "</div>\n",
              "      <button class=\"colab-df-convert\" onclick=\"convertToInteractive('df-37f60865-4457-4df0-a4c6-db622ce85fc5')\"\n",
              "              title=\"Convert this dataframe to an interactive table.\"\n",
              "              style=\"display:none;\">\n",
              "        \n",
              "  <svg xmlns=\"http://www.w3.org/2000/svg\" height=\"24px\"viewBox=\"0 0 24 24\"\n",
              "       width=\"24px\">\n",
              "    <path d=\"M0 0h24v24H0V0z\" fill=\"none\"/>\n",
              "    <path d=\"M18.56 5.44l.94 2.06.94-2.06 2.06-.94-2.06-.94-.94-2.06-.94 2.06-2.06.94zm-11 1L8.5 8.5l.94-2.06 2.06-.94-2.06-.94L8.5 2.5l-.94 2.06-2.06.94zm10 10l.94 2.06.94-2.06 2.06-.94-2.06-.94-.94-2.06-.94 2.06-2.06.94z\"/><path d=\"M17.41 7.96l-1.37-1.37c-.4-.4-.92-.59-1.43-.59-.52 0-1.04.2-1.43.59L10.3 9.45l-7.72 7.72c-.78.78-.78 2.05 0 2.83L4 21.41c.39.39.9.59 1.41.59.51 0 1.02-.2 1.41-.59l7.78-7.78 2.81-2.81c.8-.78.8-2.07 0-2.86zM5.41 20L4 18.59l7.72-7.72 1.47 1.35L5.41 20z\"/>\n",
              "  </svg>\n",
              "      </button>\n",
              "      \n",
              "  <style>\n",
              "    .colab-df-container {\n",
              "      display:flex;\n",
              "      flex-wrap:wrap;\n",
              "      gap: 12px;\n",
              "    }\n",
              "\n",
              "    .colab-df-convert {\n",
              "      background-color: #E8F0FE;\n",
              "      border: none;\n",
              "      border-radius: 50%;\n",
              "      cursor: pointer;\n",
              "      display: none;\n",
              "      fill: #1967D2;\n",
              "      height: 32px;\n",
              "      padding: 0 0 0 0;\n",
              "      width: 32px;\n",
              "    }\n",
              "\n",
              "    .colab-df-convert:hover {\n",
              "      background-color: #E2EBFA;\n",
              "      box-shadow: 0px 1px 2px rgba(60, 64, 67, 0.3), 0px 1px 3px 1px rgba(60, 64, 67, 0.15);\n",
              "      fill: #174EA6;\n",
              "    }\n",
              "\n",
              "    [theme=dark] .colab-df-convert {\n",
              "      background-color: #3B4455;\n",
              "      fill: #D2E3FC;\n",
              "    }\n",
              "\n",
              "    [theme=dark] .colab-df-convert:hover {\n",
              "      background-color: #434B5C;\n",
              "      box-shadow: 0px 1px 3px 1px rgba(0, 0, 0, 0.15);\n",
              "      filter: drop-shadow(0px 1px 2px rgba(0, 0, 0, 0.3));\n",
              "      fill: #FFFFFF;\n",
              "    }\n",
              "  </style>\n",
              "\n",
              "      <script>\n",
              "        const buttonEl =\n",
              "          document.querySelector('#df-37f60865-4457-4df0-a4c6-db622ce85fc5 button.colab-df-convert');\n",
              "        buttonEl.style.display =\n",
              "          google.colab.kernel.accessAllowed ? 'block' : 'none';\n",
              "\n",
              "        async function convertToInteractive(key) {\n",
              "          const element = document.querySelector('#df-37f60865-4457-4df0-a4c6-db622ce85fc5');\n",
              "          const dataTable =\n",
              "            await google.colab.kernel.invokeFunction('convertToInteractive',\n",
              "                                                     [key], {});\n",
              "          if (!dataTable) return;\n",
              "\n",
              "          const docLinkHtml = 'Like what you see? Visit the ' +\n",
              "            '<a target=\"_blank\" href=https://colab.research.google.com/notebooks/data_table.ipynb>data table notebook</a>'\n",
              "            + ' to learn more about interactive tables.';\n",
              "          element.innerHTML = '';\n",
              "          dataTable['output_type'] = 'display_data';\n",
              "          await google.colab.output.renderOutput(dataTable, element);\n",
              "          const docLink = document.createElement('div');\n",
              "          docLink.innerHTML = docLinkHtml;\n",
              "          element.appendChild(docLink);\n",
              "        }\n",
              "      </script>\n",
              "    </div>\n",
              "  </div>\n",
              "  "
            ]
          },
          "metadata": {},
          "execution_count": 54
        }
      ]
    },
    {
      "cell_type": "code",
      "source": [
        "df.groupby('FQ').agg(TX_PHY_RATE = ('TX_PHY_RATE', 'mean'),\n",
        "                                CCA_INT = ('CCA_INT', 'mean'))"
      ],
      "metadata": {
        "colab": {
          "base_uri": "https://localhost:8080/",
          "height": 175
        },
        "id": "xnCgqpxtLiby",
        "outputId": "cbba005d-b038-4755-e40e-1f6adfe73588"
      },
      "execution_count": 55,
      "outputs": [
        {
          "output_type": "execute_result",
          "data": {
            "text/plain": [
              "       TX_PHY_RATE    CCA_INT\n",
              "FQ                           \n",
              "2,4G     66.344143  84.028293\n",
              "5G      396.658376  14.067005\n",
              "5G BS   351.956697  13.116314"
            ],
            "text/html": [
              "\n",
              "  <div id=\"df-80db3c73-ca99-458b-ba92-f63620893fb3\">\n",
              "    <div class=\"colab-df-container\">\n",
              "      <div>\n",
              "<style scoped>\n",
              "    .dataframe tbody tr th:only-of-type {\n",
              "        vertical-align: middle;\n",
              "    }\n",
              "\n",
              "    .dataframe tbody tr th {\n",
              "        vertical-align: top;\n",
              "    }\n",
              "\n",
              "    .dataframe thead th {\n",
              "        text-align: right;\n",
              "    }\n",
              "</style>\n",
              "<table border=\"1\" class=\"dataframe\">\n",
              "  <thead>\n",
              "    <tr style=\"text-align: right;\">\n",
              "      <th></th>\n",
              "      <th>TX_PHY_RATE</th>\n",
              "      <th>CCA_INT</th>\n",
              "    </tr>\n",
              "    <tr>\n",
              "      <th>FQ</th>\n",
              "      <th></th>\n",
              "      <th></th>\n",
              "    </tr>\n",
              "  </thead>\n",
              "  <tbody>\n",
              "    <tr>\n",
              "      <th>2,4G</th>\n",
              "      <td>66.344143</td>\n",
              "      <td>84.028293</td>\n",
              "    </tr>\n",
              "    <tr>\n",
              "      <th>5G</th>\n",
              "      <td>396.658376</td>\n",
              "      <td>14.067005</td>\n",
              "    </tr>\n",
              "    <tr>\n",
              "      <th>5G BS</th>\n",
              "      <td>351.956697</td>\n",
              "      <td>13.116314</td>\n",
              "    </tr>\n",
              "  </tbody>\n",
              "</table>\n",
              "</div>\n",
              "      <button class=\"colab-df-convert\" onclick=\"convertToInteractive('df-80db3c73-ca99-458b-ba92-f63620893fb3')\"\n",
              "              title=\"Convert this dataframe to an interactive table.\"\n",
              "              style=\"display:none;\">\n",
              "        \n",
              "  <svg xmlns=\"http://www.w3.org/2000/svg\" height=\"24px\"viewBox=\"0 0 24 24\"\n",
              "       width=\"24px\">\n",
              "    <path d=\"M0 0h24v24H0V0z\" fill=\"none\"/>\n",
              "    <path d=\"M18.56 5.44l.94 2.06.94-2.06 2.06-.94-2.06-.94-.94-2.06-.94 2.06-2.06.94zm-11 1L8.5 8.5l.94-2.06 2.06-.94-2.06-.94L8.5 2.5l-.94 2.06-2.06.94zm10 10l.94 2.06.94-2.06 2.06-.94-2.06-.94-.94-2.06-.94 2.06-2.06.94z\"/><path d=\"M17.41 7.96l-1.37-1.37c-.4-.4-.92-.59-1.43-.59-.52 0-1.04.2-1.43.59L10.3 9.45l-7.72 7.72c-.78.78-.78 2.05 0 2.83L4 21.41c.39.39.9.59 1.41.59.51 0 1.02-.2 1.41-.59l7.78-7.78 2.81-2.81c.8-.78.8-2.07 0-2.86zM5.41 20L4 18.59l7.72-7.72 1.47 1.35L5.41 20z\"/>\n",
              "  </svg>\n",
              "      </button>\n",
              "      \n",
              "  <style>\n",
              "    .colab-df-container {\n",
              "      display:flex;\n",
              "      flex-wrap:wrap;\n",
              "      gap: 12px;\n",
              "    }\n",
              "\n",
              "    .colab-df-convert {\n",
              "      background-color: #E8F0FE;\n",
              "      border: none;\n",
              "      border-radius: 50%;\n",
              "      cursor: pointer;\n",
              "      display: none;\n",
              "      fill: #1967D2;\n",
              "      height: 32px;\n",
              "      padding: 0 0 0 0;\n",
              "      width: 32px;\n",
              "    }\n",
              "\n",
              "    .colab-df-convert:hover {\n",
              "      background-color: #E2EBFA;\n",
              "      box-shadow: 0px 1px 2px rgba(60, 64, 67, 0.3), 0px 1px 3px 1px rgba(60, 64, 67, 0.15);\n",
              "      fill: #174EA6;\n",
              "    }\n",
              "\n",
              "    [theme=dark] .colab-df-convert {\n",
              "      background-color: #3B4455;\n",
              "      fill: #D2E3FC;\n",
              "    }\n",
              "\n",
              "    [theme=dark] .colab-df-convert:hover {\n",
              "      background-color: #434B5C;\n",
              "      box-shadow: 0px 1px 3px 1px rgba(0, 0, 0, 0.15);\n",
              "      filter: drop-shadow(0px 1px 2px rgba(0, 0, 0, 0.3));\n",
              "      fill: #FFFFFF;\n",
              "    }\n",
              "  </style>\n",
              "\n",
              "      <script>\n",
              "        const buttonEl =\n",
              "          document.querySelector('#df-80db3c73-ca99-458b-ba92-f63620893fb3 button.colab-df-convert');\n",
              "        buttonEl.style.display =\n",
              "          google.colab.kernel.accessAllowed ? 'block' : 'none';\n",
              "\n",
              "        async function convertToInteractive(key) {\n",
              "          const element = document.querySelector('#df-80db3c73-ca99-458b-ba92-f63620893fb3');\n",
              "          const dataTable =\n",
              "            await google.colab.kernel.invokeFunction('convertToInteractive',\n",
              "                                                     [key], {});\n",
              "          if (!dataTable) return;\n",
              "\n",
              "          const docLinkHtml = 'Like what you see? Visit the ' +\n",
              "            '<a target=\"_blank\" href=https://colab.research.google.com/notebooks/data_table.ipynb>data table notebook</a>'\n",
              "            + ' to learn more about interactive tables.';\n",
              "          element.innerHTML = '';\n",
              "          dataTable['output_type'] = 'display_data';\n",
              "          await google.colab.output.renderOutput(dataTable, element);\n",
              "          const docLink = document.createElement('div');\n",
              "          docLink.innerHTML = docLinkHtml;\n",
              "          element.appendChild(docLink);\n",
              "        }\n",
              "      </script>\n",
              "    </div>\n",
              "  </div>\n",
              "  "
            ]
          },
          "metadata": {},
          "execution_count": 55
        }
      ]
    },
    {
      "cell_type": "code",
      "source": [
        "df.groupby('cut_SSI').agg(TX_PHY_RATE = ('TX_PHY_RATE', 'mean'),\n",
        "                                CCA_INT = ('CCA_INT', 'mean'))"
      ],
      "metadata": {
        "colab": {
          "base_uri": "https://localhost:8080/",
          "height": 237
        },
        "id": "AxsrWmaiLkpt",
        "outputId": "1f30fa21-4eee-4649-b1c4-c6dd8dab8897"
      },
      "execution_count": 56,
      "outputs": [
        {
          "output_type": "execute_result",
          "data": {
            "text/plain": [
              "                  TX_PHY_RATE    CCA_INT\n",
              "cut_SSI                                 \n",
              "(-95.095, -76.0]   141.106024  22.060241\n",
              "(-76.0, -57.0]     185.890068  48.812220\n",
              "(-57.0, -38.0]     195.395748  70.513104\n",
              "(-38.0, -19.0]     230.675676  78.753861\n",
              "(-19.0, 0.0]       168.543478  76.456522"
            ],
            "text/html": [
              "\n",
              "  <div id=\"df-e561ffa4-db6d-4348-bda2-971df5661a80\">\n",
              "    <div class=\"colab-df-container\">\n",
              "      <div>\n",
              "<style scoped>\n",
              "    .dataframe tbody tr th:only-of-type {\n",
              "        vertical-align: middle;\n",
              "    }\n",
              "\n",
              "    .dataframe tbody tr th {\n",
              "        vertical-align: top;\n",
              "    }\n",
              "\n",
              "    .dataframe thead th {\n",
              "        text-align: right;\n",
              "    }\n",
              "</style>\n",
              "<table border=\"1\" class=\"dataframe\">\n",
              "  <thead>\n",
              "    <tr style=\"text-align: right;\">\n",
              "      <th></th>\n",
              "      <th>TX_PHY_RATE</th>\n",
              "      <th>CCA_INT</th>\n",
              "    </tr>\n",
              "    <tr>\n",
              "      <th>cut_SSI</th>\n",
              "      <th></th>\n",
              "      <th></th>\n",
              "    </tr>\n",
              "  </thead>\n",
              "  <tbody>\n",
              "    <tr>\n",
              "      <th>(-95.095, -76.0]</th>\n",
              "      <td>141.106024</td>\n",
              "      <td>22.060241</td>\n",
              "    </tr>\n",
              "    <tr>\n",
              "      <th>(-76.0, -57.0]</th>\n",
              "      <td>185.890068</td>\n",
              "      <td>48.812220</td>\n",
              "    </tr>\n",
              "    <tr>\n",
              "      <th>(-57.0, -38.0]</th>\n",
              "      <td>195.395748</td>\n",
              "      <td>70.513104</td>\n",
              "    </tr>\n",
              "    <tr>\n",
              "      <th>(-38.0, -19.0]</th>\n",
              "      <td>230.675676</td>\n",
              "      <td>78.753861</td>\n",
              "    </tr>\n",
              "    <tr>\n",
              "      <th>(-19.0, 0.0]</th>\n",
              "      <td>168.543478</td>\n",
              "      <td>76.456522</td>\n",
              "    </tr>\n",
              "  </tbody>\n",
              "</table>\n",
              "</div>\n",
              "      <button class=\"colab-df-convert\" onclick=\"convertToInteractive('df-e561ffa4-db6d-4348-bda2-971df5661a80')\"\n",
              "              title=\"Convert this dataframe to an interactive table.\"\n",
              "              style=\"display:none;\">\n",
              "        \n",
              "  <svg xmlns=\"http://www.w3.org/2000/svg\" height=\"24px\"viewBox=\"0 0 24 24\"\n",
              "       width=\"24px\">\n",
              "    <path d=\"M0 0h24v24H0V0z\" fill=\"none\"/>\n",
              "    <path d=\"M18.56 5.44l.94 2.06.94-2.06 2.06-.94-2.06-.94-.94-2.06-.94 2.06-2.06.94zm-11 1L8.5 8.5l.94-2.06 2.06-.94-2.06-.94L8.5 2.5l-.94 2.06-2.06.94zm10 10l.94 2.06.94-2.06 2.06-.94-2.06-.94-.94-2.06-.94 2.06-2.06.94z\"/><path d=\"M17.41 7.96l-1.37-1.37c-.4-.4-.92-.59-1.43-.59-.52 0-1.04.2-1.43.59L10.3 9.45l-7.72 7.72c-.78.78-.78 2.05 0 2.83L4 21.41c.39.39.9.59 1.41.59.51 0 1.02-.2 1.41-.59l7.78-7.78 2.81-2.81c.8-.78.8-2.07 0-2.86zM5.41 20L4 18.59l7.72-7.72 1.47 1.35L5.41 20z\"/>\n",
              "  </svg>\n",
              "      </button>\n",
              "      \n",
              "  <style>\n",
              "    .colab-df-container {\n",
              "      display:flex;\n",
              "      flex-wrap:wrap;\n",
              "      gap: 12px;\n",
              "    }\n",
              "\n",
              "    .colab-df-convert {\n",
              "      background-color: #E8F0FE;\n",
              "      border: none;\n",
              "      border-radius: 50%;\n",
              "      cursor: pointer;\n",
              "      display: none;\n",
              "      fill: #1967D2;\n",
              "      height: 32px;\n",
              "      padding: 0 0 0 0;\n",
              "      width: 32px;\n",
              "    }\n",
              "\n",
              "    .colab-df-convert:hover {\n",
              "      background-color: #E2EBFA;\n",
              "      box-shadow: 0px 1px 2px rgba(60, 64, 67, 0.3), 0px 1px 3px 1px rgba(60, 64, 67, 0.15);\n",
              "      fill: #174EA6;\n",
              "    }\n",
              "\n",
              "    [theme=dark] .colab-df-convert {\n",
              "      background-color: #3B4455;\n",
              "      fill: #D2E3FC;\n",
              "    }\n",
              "\n",
              "    [theme=dark] .colab-df-convert:hover {\n",
              "      background-color: #434B5C;\n",
              "      box-shadow: 0px 1px 3px 1px rgba(0, 0, 0, 0.15);\n",
              "      filter: drop-shadow(0px 1px 2px rgba(0, 0, 0, 0.3));\n",
              "      fill: #FFFFFF;\n",
              "    }\n",
              "  </style>\n",
              "\n",
              "      <script>\n",
              "        const buttonEl =\n",
              "          document.querySelector('#df-e561ffa4-db6d-4348-bda2-971df5661a80 button.colab-df-convert');\n",
              "        buttonEl.style.display =\n",
              "          google.colab.kernel.accessAllowed ? 'block' : 'none';\n",
              "\n",
              "        async function convertToInteractive(key) {\n",
              "          const element = document.querySelector('#df-e561ffa4-db6d-4348-bda2-971df5661a80');\n",
              "          const dataTable =\n",
              "            await google.colab.kernel.invokeFunction('convertToInteractive',\n",
              "                                                     [key], {});\n",
              "          if (!dataTable) return;\n",
              "\n",
              "          const docLinkHtml = 'Like what you see? Visit the ' +\n",
              "            '<a target=\"_blank\" href=https://colab.research.google.com/notebooks/data_table.ipynb>data table notebook</a>'\n",
              "            + ' to learn more about interactive tables.';\n",
              "          element.innerHTML = '';\n",
              "          dataTable['output_type'] = 'display_data';\n",
              "          await google.colab.output.renderOutput(dataTable, element);\n",
              "          const docLink = document.createElement('div');\n",
              "          docLink.innerHTML = docLinkHtml;\n",
              "          element.appendChild(docLink);\n",
              "        }\n",
              "      </script>\n",
              "    </div>\n",
              "  </div>\n",
              "  "
            ]
          },
          "metadata": {},
          "execution_count": 56
        }
      ]
    },
    {
      "cell_type": "markdown",
      "source": [
        ""
      ],
      "metadata": {
        "id": "kBraHwaBHXLo"
      }
    },
    {
      "cell_type": "markdown",
      "source": [
        "### Análise Multivariada"
      ],
      "metadata": {
        "id": "54Rptx1TlVPY"
      }
    },
    {
      "cell_type": "code",
      "source": [
        "grouped_planfreq = df.groupby(['PLANO', 'FQ', 'cut_SSI']).agg(TX_PHY_RATE = ('TX_PHY_RATE', 'mean'),\n",
        "                                CCA_INT = ('CCA_INT', 'mean'))\n",
        "grouped_planfreq"
      ],
      "metadata": {
        "colab": {
          "base_uri": "https://localhost:8080/",
          "height": 1000
        },
        "id": "18XPEWR8-0XY",
        "outputId": "d1913b9c-3e36-4884-eabe-97cc465b80eb"
      },
      "execution_count": 57,
      "outputs": [
        {
          "output_type": "execute_result",
          "data": {
            "text/plain": [
              "                              TX_PHY_RATE     CCA_INT\n",
              "PLANO FQ    cut_SSI                                  \n",
              "50    2,4G  (-95.095, -76.0]    43.763636   36.727273\n",
              "            (-76.0, -57.0]      63.651376   74.006116\n",
              "            (-57.0, -38.0]      69.554174  104.404973\n",
              "            (-38.0, -19.0]      80.062893   98.050314\n",
              "            (-19.0, 0.0]        69.000000  102.000000\n",
              "      5G    (-95.095, -76.0]   198.230769   12.528846\n",
              "            (-76.0, -57.0]     381.671111   15.666667\n",
              "            (-57.0, -38.0]     464.697368   12.651316\n",
              "            (-38.0, -19.0]     492.142857   17.660714\n",
              "            (-19.0, 0.0]       513.250000   16.250000\n",
              "      5G BS (-95.095, -76.0]   205.306931    7.168317\n",
              "            (-76.0, -57.0]     339.430556   12.097222\n",
              "            (-57.0, -38.0]     430.345070    9.929577\n",
              "            (-38.0, -19.0]     487.564103   22.487179\n",
              "            (-19.0, 0.0]              NaN         NaN\n",
              "100   2,4G  (-95.095, -76.0]    41.535714   31.339286\n",
              "            (-76.0, -57.0]      66.125397   69.142857\n",
              "            (-57.0, -38.0]      70.818333   86.650000\n",
              "            (-38.0, -19.0]      70.917127  107.513812\n",
              "            (-19.0, 0.0]        71.666667   31.666667\n",
              "      5G    (-95.095, -76.0]   199.842593   11.157407\n",
              "            (-76.0, -57.0]     375.722772   16.821782\n",
              "            (-57.0, -38.0]     491.373134   13.514925\n",
              "            (-38.0, -19.0]     538.916667   14.233333\n",
              "            (-19.0, 0.0]              NaN         NaN\n",
              "      5G BS (-95.095, -76.0]   210.641791   19.574627\n",
              "            (-76.0, -57.0]     383.452915   13.645740\n",
              "            (-57.0, -38.0]     436.886667   17.253333\n",
              "            (-38.0, -19.0]     470.170213   10.021277\n",
              "            (-19.0, 0.0]              NaN         NaN\n",
              "200   2,4G  (-95.095, -76.0]    38.376068   35.897436\n",
              "            (-76.0, -57.0]      64.019146   70.957290\n",
              "            (-57.0, -38.0]      69.998192  103.471971\n",
              "            (-38.0, -19.0]      76.646707  130.658683\n",
              "            (-19.0, 0.0]        74.428571   70.000000\n",
              "      5G    (-95.095, -76.0]   220.358025   14.962963\n",
              "            (-76.0, -57.0]     415.536946   14.916256\n",
              "            (-57.0, -38.0]     486.027972   15.482517\n",
              "            (-38.0, -19.0]     608.893617   16.446809\n",
              "            (-19.0, 0.0]       628.666667   13.000000\n",
              "      5G BS (-95.095, -76.0]   158.688889   16.566667\n",
              "            (-76.0, -57.0]     337.817778   13.275556\n",
              "            (-57.0, -38.0]     445.301471   12.000000\n",
              "            (-38.0, -19.0]     526.125000   10.375000\n",
              "            (-19.0, 0.0]              NaN         NaN\n",
              "300   2,4G  (-95.095, -76.0]    38.462963   40.925926\n",
              "            (-76.0, -57.0]      65.071547   72.861897\n",
              "            (-57.0, -38.0]      69.378069   97.883797\n",
              "            (-38.0, -19.0]      81.425926  121.851852\n",
              "            (-19.0, 0.0]        75.928571  118.571429\n",
              "      5G    (-95.095, -76.0]   191.824176   15.571429\n",
              "            (-76.0, -57.0]     386.971429   12.274286\n",
              "            (-57.0, -38.0]     493.875969   10.992248\n",
              "            (-38.0, -19.0]     518.269231    6.826923\n",
              "            (-19.0, 0.0]       975.000000   35.000000\n",
              "      5G BS (-95.095, -76.0]   188.977528   14.831461\n",
              "            (-76.0, -57.0]     356.514563   10.888350\n",
              "            (-57.0, -38.0]     424.355372   11.148760\n",
              "            (-38.0, -19.0]     412.088235    9.647059\n",
              "            (-19.0, 0.0]       135.000000   18.000000"
            ],
            "text/html": [
              "\n",
              "  <div id=\"df-c5a5ecfc-5c4f-4392-a520-77eab507b8ec\">\n",
              "    <div class=\"colab-df-container\">\n",
              "      <div>\n",
              "<style scoped>\n",
              "    .dataframe tbody tr th:only-of-type {\n",
              "        vertical-align: middle;\n",
              "    }\n",
              "\n",
              "    .dataframe tbody tr th {\n",
              "        vertical-align: top;\n",
              "    }\n",
              "\n",
              "    .dataframe thead th {\n",
              "        text-align: right;\n",
              "    }\n",
              "</style>\n",
              "<table border=\"1\" class=\"dataframe\">\n",
              "  <thead>\n",
              "    <tr style=\"text-align: right;\">\n",
              "      <th></th>\n",
              "      <th></th>\n",
              "      <th></th>\n",
              "      <th>TX_PHY_RATE</th>\n",
              "      <th>CCA_INT</th>\n",
              "    </tr>\n",
              "    <tr>\n",
              "      <th>PLANO</th>\n",
              "      <th>FQ</th>\n",
              "      <th>cut_SSI</th>\n",
              "      <th></th>\n",
              "      <th></th>\n",
              "    </tr>\n",
              "  </thead>\n",
              "  <tbody>\n",
              "    <tr>\n",
              "      <th rowspan=\"15\" valign=\"top\">50</th>\n",
              "      <th rowspan=\"5\" valign=\"top\">2,4G</th>\n",
              "      <th>(-95.095, -76.0]</th>\n",
              "      <td>43.763636</td>\n",
              "      <td>36.727273</td>\n",
              "    </tr>\n",
              "    <tr>\n",
              "      <th>(-76.0, -57.0]</th>\n",
              "      <td>63.651376</td>\n",
              "      <td>74.006116</td>\n",
              "    </tr>\n",
              "    <tr>\n",
              "      <th>(-57.0, -38.0]</th>\n",
              "      <td>69.554174</td>\n",
              "      <td>104.404973</td>\n",
              "    </tr>\n",
              "    <tr>\n",
              "      <th>(-38.0, -19.0]</th>\n",
              "      <td>80.062893</td>\n",
              "      <td>98.050314</td>\n",
              "    </tr>\n",
              "    <tr>\n",
              "      <th>(-19.0, 0.0]</th>\n",
              "      <td>69.000000</td>\n",
              "      <td>102.000000</td>\n",
              "    </tr>\n",
              "    <tr>\n",
              "      <th rowspan=\"5\" valign=\"top\">5G</th>\n",
              "      <th>(-95.095, -76.0]</th>\n",
              "      <td>198.230769</td>\n",
              "      <td>12.528846</td>\n",
              "    </tr>\n",
              "    <tr>\n",
              "      <th>(-76.0, -57.0]</th>\n",
              "      <td>381.671111</td>\n",
              "      <td>15.666667</td>\n",
              "    </tr>\n",
              "    <tr>\n",
              "      <th>(-57.0, -38.0]</th>\n",
              "      <td>464.697368</td>\n",
              "      <td>12.651316</td>\n",
              "    </tr>\n",
              "    <tr>\n",
              "      <th>(-38.0, -19.0]</th>\n",
              "      <td>492.142857</td>\n",
              "      <td>17.660714</td>\n",
              "    </tr>\n",
              "    <tr>\n",
              "      <th>(-19.0, 0.0]</th>\n",
              "      <td>513.250000</td>\n",
              "      <td>16.250000</td>\n",
              "    </tr>\n",
              "    <tr>\n",
              "      <th rowspan=\"5\" valign=\"top\">5G BS</th>\n",
              "      <th>(-95.095, -76.0]</th>\n",
              "      <td>205.306931</td>\n",
              "      <td>7.168317</td>\n",
              "    </tr>\n",
              "    <tr>\n",
              "      <th>(-76.0, -57.0]</th>\n",
              "      <td>339.430556</td>\n",
              "      <td>12.097222</td>\n",
              "    </tr>\n",
              "    <tr>\n",
              "      <th>(-57.0, -38.0]</th>\n",
              "      <td>430.345070</td>\n",
              "      <td>9.929577</td>\n",
              "    </tr>\n",
              "    <tr>\n",
              "      <th>(-38.0, -19.0]</th>\n",
              "      <td>487.564103</td>\n",
              "      <td>22.487179</td>\n",
              "    </tr>\n",
              "    <tr>\n",
              "      <th>(-19.0, 0.0]</th>\n",
              "      <td>NaN</td>\n",
              "      <td>NaN</td>\n",
              "    </tr>\n",
              "    <tr>\n",
              "      <th rowspan=\"15\" valign=\"top\">100</th>\n",
              "      <th rowspan=\"5\" valign=\"top\">2,4G</th>\n",
              "      <th>(-95.095, -76.0]</th>\n",
              "      <td>41.535714</td>\n",
              "      <td>31.339286</td>\n",
              "    </tr>\n",
              "    <tr>\n",
              "      <th>(-76.0, -57.0]</th>\n",
              "      <td>66.125397</td>\n",
              "      <td>69.142857</td>\n",
              "    </tr>\n",
              "    <tr>\n",
              "      <th>(-57.0, -38.0]</th>\n",
              "      <td>70.818333</td>\n",
              "      <td>86.650000</td>\n",
              "    </tr>\n",
              "    <tr>\n",
              "      <th>(-38.0, -19.0]</th>\n",
              "      <td>70.917127</td>\n",
              "      <td>107.513812</td>\n",
              "    </tr>\n",
              "    <tr>\n",
              "      <th>(-19.0, 0.0]</th>\n",
              "      <td>71.666667</td>\n",
              "      <td>31.666667</td>\n",
              "    </tr>\n",
              "    <tr>\n",
              "      <th rowspan=\"5\" valign=\"top\">5G</th>\n",
              "      <th>(-95.095, -76.0]</th>\n",
              "      <td>199.842593</td>\n",
              "      <td>11.157407</td>\n",
              "    </tr>\n",
              "    <tr>\n",
              "      <th>(-76.0, -57.0]</th>\n",
              "      <td>375.722772</td>\n",
              "      <td>16.821782</td>\n",
              "    </tr>\n",
              "    <tr>\n",
              "      <th>(-57.0, -38.0]</th>\n",
              "      <td>491.373134</td>\n",
              "      <td>13.514925</td>\n",
              "    </tr>\n",
              "    <tr>\n",
              "      <th>(-38.0, -19.0]</th>\n",
              "      <td>538.916667</td>\n",
              "      <td>14.233333</td>\n",
              "    </tr>\n",
              "    <tr>\n",
              "      <th>(-19.0, 0.0]</th>\n",
              "      <td>NaN</td>\n",
              "      <td>NaN</td>\n",
              "    </tr>\n",
              "    <tr>\n",
              "      <th rowspan=\"5\" valign=\"top\">5G BS</th>\n",
              "      <th>(-95.095, -76.0]</th>\n",
              "      <td>210.641791</td>\n",
              "      <td>19.574627</td>\n",
              "    </tr>\n",
              "    <tr>\n",
              "      <th>(-76.0, -57.0]</th>\n",
              "      <td>383.452915</td>\n",
              "      <td>13.645740</td>\n",
              "    </tr>\n",
              "    <tr>\n",
              "      <th>(-57.0, -38.0]</th>\n",
              "      <td>436.886667</td>\n",
              "      <td>17.253333</td>\n",
              "    </tr>\n",
              "    <tr>\n",
              "      <th>(-38.0, -19.0]</th>\n",
              "      <td>470.170213</td>\n",
              "      <td>10.021277</td>\n",
              "    </tr>\n",
              "    <tr>\n",
              "      <th>(-19.0, 0.0]</th>\n",
              "      <td>NaN</td>\n",
              "      <td>NaN</td>\n",
              "    </tr>\n",
              "    <tr>\n",
              "      <th rowspan=\"15\" valign=\"top\">200</th>\n",
              "      <th rowspan=\"5\" valign=\"top\">2,4G</th>\n",
              "      <th>(-95.095, -76.0]</th>\n",
              "      <td>38.376068</td>\n",
              "      <td>35.897436</td>\n",
              "    </tr>\n",
              "    <tr>\n",
              "      <th>(-76.0, -57.0]</th>\n",
              "      <td>64.019146</td>\n",
              "      <td>70.957290</td>\n",
              "    </tr>\n",
              "    <tr>\n",
              "      <th>(-57.0, -38.0]</th>\n",
              "      <td>69.998192</td>\n",
              "      <td>103.471971</td>\n",
              "    </tr>\n",
              "    <tr>\n",
              "      <th>(-38.0, -19.0]</th>\n",
              "      <td>76.646707</td>\n",
              "      <td>130.658683</td>\n",
              "    </tr>\n",
              "    <tr>\n",
              "      <th>(-19.0, 0.0]</th>\n",
              "      <td>74.428571</td>\n",
              "      <td>70.000000</td>\n",
              "    </tr>\n",
              "    <tr>\n",
              "      <th rowspan=\"5\" valign=\"top\">5G</th>\n",
              "      <th>(-95.095, -76.0]</th>\n",
              "      <td>220.358025</td>\n",
              "      <td>14.962963</td>\n",
              "    </tr>\n",
              "    <tr>\n",
              "      <th>(-76.0, -57.0]</th>\n",
              "      <td>415.536946</td>\n",
              "      <td>14.916256</td>\n",
              "    </tr>\n",
              "    <tr>\n",
              "      <th>(-57.0, -38.0]</th>\n",
              "      <td>486.027972</td>\n",
              "      <td>15.482517</td>\n",
              "    </tr>\n",
              "    <tr>\n",
              "      <th>(-38.0, -19.0]</th>\n",
              "      <td>608.893617</td>\n",
              "      <td>16.446809</td>\n",
              "    </tr>\n",
              "    <tr>\n",
              "      <th>(-19.0, 0.0]</th>\n",
              "      <td>628.666667</td>\n",
              "      <td>13.000000</td>\n",
              "    </tr>\n",
              "    <tr>\n",
              "      <th rowspan=\"5\" valign=\"top\">5G BS</th>\n",
              "      <th>(-95.095, -76.0]</th>\n",
              "      <td>158.688889</td>\n",
              "      <td>16.566667</td>\n",
              "    </tr>\n",
              "    <tr>\n",
              "      <th>(-76.0, -57.0]</th>\n",
              "      <td>337.817778</td>\n",
              "      <td>13.275556</td>\n",
              "    </tr>\n",
              "    <tr>\n",
              "      <th>(-57.0, -38.0]</th>\n",
              "      <td>445.301471</td>\n",
              "      <td>12.000000</td>\n",
              "    </tr>\n",
              "    <tr>\n",
              "      <th>(-38.0, -19.0]</th>\n",
              "      <td>526.125000</td>\n",
              "      <td>10.375000</td>\n",
              "    </tr>\n",
              "    <tr>\n",
              "      <th>(-19.0, 0.0]</th>\n",
              "      <td>NaN</td>\n",
              "      <td>NaN</td>\n",
              "    </tr>\n",
              "    <tr>\n",
              "      <th rowspan=\"15\" valign=\"top\">300</th>\n",
              "      <th rowspan=\"5\" valign=\"top\">2,4G</th>\n",
              "      <th>(-95.095, -76.0]</th>\n",
              "      <td>38.462963</td>\n",
              "      <td>40.925926</td>\n",
              "    </tr>\n",
              "    <tr>\n",
              "      <th>(-76.0, -57.0]</th>\n",
              "      <td>65.071547</td>\n",
              "      <td>72.861897</td>\n",
              "    </tr>\n",
              "    <tr>\n",
              "      <th>(-57.0, -38.0]</th>\n",
              "      <td>69.378069</td>\n",
              "      <td>97.883797</td>\n",
              "    </tr>\n",
              "    <tr>\n",
              "      <th>(-38.0, -19.0]</th>\n",
              "      <td>81.425926</td>\n",
              "      <td>121.851852</td>\n",
              "    </tr>\n",
              "    <tr>\n",
              "      <th>(-19.0, 0.0]</th>\n",
              "      <td>75.928571</td>\n",
              "      <td>118.571429</td>\n",
              "    </tr>\n",
              "    <tr>\n",
              "      <th rowspan=\"5\" valign=\"top\">5G</th>\n",
              "      <th>(-95.095, -76.0]</th>\n",
              "      <td>191.824176</td>\n",
              "      <td>15.571429</td>\n",
              "    </tr>\n",
              "    <tr>\n",
              "      <th>(-76.0, -57.0]</th>\n",
              "      <td>386.971429</td>\n",
              "      <td>12.274286</td>\n",
              "    </tr>\n",
              "    <tr>\n",
              "      <th>(-57.0, -38.0]</th>\n",
              "      <td>493.875969</td>\n",
              "      <td>10.992248</td>\n",
              "    </tr>\n",
              "    <tr>\n",
              "      <th>(-38.0, -19.0]</th>\n",
              "      <td>518.269231</td>\n",
              "      <td>6.826923</td>\n",
              "    </tr>\n",
              "    <tr>\n",
              "      <th>(-19.0, 0.0]</th>\n",
              "      <td>975.000000</td>\n",
              "      <td>35.000000</td>\n",
              "    </tr>\n",
              "    <tr>\n",
              "      <th rowspan=\"5\" valign=\"top\">5G BS</th>\n",
              "      <th>(-95.095, -76.0]</th>\n",
              "      <td>188.977528</td>\n",
              "      <td>14.831461</td>\n",
              "    </tr>\n",
              "    <tr>\n",
              "      <th>(-76.0, -57.0]</th>\n",
              "      <td>356.514563</td>\n",
              "      <td>10.888350</td>\n",
              "    </tr>\n",
              "    <tr>\n",
              "      <th>(-57.0, -38.0]</th>\n",
              "      <td>424.355372</td>\n",
              "      <td>11.148760</td>\n",
              "    </tr>\n",
              "    <tr>\n",
              "      <th>(-38.0, -19.0]</th>\n",
              "      <td>412.088235</td>\n",
              "      <td>9.647059</td>\n",
              "    </tr>\n",
              "    <tr>\n",
              "      <th>(-19.0, 0.0]</th>\n",
              "      <td>135.000000</td>\n",
              "      <td>18.000000</td>\n",
              "    </tr>\n",
              "  </tbody>\n",
              "</table>\n",
              "</div>\n",
              "      <button class=\"colab-df-convert\" onclick=\"convertToInteractive('df-c5a5ecfc-5c4f-4392-a520-77eab507b8ec')\"\n",
              "              title=\"Convert this dataframe to an interactive table.\"\n",
              "              style=\"display:none;\">\n",
              "        \n",
              "  <svg xmlns=\"http://www.w3.org/2000/svg\" height=\"24px\"viewBox=\"0 0 24 24\"\n",
              "       width=\"24px\">\n",
              "    <path d=\"M0 0h24v24H0V0z\" fill=\"none\"/>\n",
              "    <path d=\"M18.56 5.44l.94 2.06.94-2.06 2.06-.94-2.06-.94-.94-2.06-.94 2.06-2.06.94zm-11 1L8.5 8.5l.94-2.06 2.06-.94-2.06-.94L8.5 2.5l-.94 2.06-2.06.94zm10 10l.94 2.06.94-2.06 2.06-.94-2.06-.94-.94-2.06-.94 2.06-2.06.94z\"/><path d=\"M17.41 7.96l-1.37-1.37c-.4-.4-.92-.59-1.43-.59-.52 0-1.04.2-1.43.59L10.3 9.45l-7.72 7.72c-.78.78-.78 2.05 0 2.83L4 21.41c.39.39.9.59 1.41.59.51 0 1.02-.2 1.41-.59l7.78-7.78 2.81-2.81c.8-.78.8-2.07 0-2.86zM5.41 20L4 18.59l7.72-7.72 1.47 1.35L5.41 20z\"/>\n",
              "  </svg>\n",
              "      </button>\n",
              "      \n",
              "  <style>\n",
              "    .colab-df-container {\n",
              "      display:flex;\n",
              "      flex-wrap:wrap;\n",
              "      gap: 12px;\n",
              "    }\n",
              "\n",
              "    .colab-df-convert {\n",
              "      background-color: #E8F0FE;\n",
              "      border: none;\n",
              "      border-radius: 50%;\n",
              "      cursor: pointer;\n",
              "      display: none;\n",
              "      fill: #1967D2;\n",
              "      height: 32px;\n",
              "      padding: 0 0 0 0;\n",
              "      width: 32px;\n",
              "    }\n",
              "\n",
              "    .colab-df-convert:hover {\n",
              "      background-color: #E2EBFA;\n",
              "      box-shadow: 0px 1px 2px rgba(60, 64, 67, 0.3), 0px 1px 3px 1px rgba(60, 64, 67, 0.15);\n",
              "      fill: #174EA6;\n",
              "    }\n",
              "\n",
              "    [theme=dark] .colab-df-convert {\n",
              "      background-color: #3B4455;\n",
              "      fill: #D2E3FC;\n",
              "    }\n",
              "\n",
              "    [theme=dark] .colab-df-convert:hover {\n",
              "      background-color: #434B5C;\n",
              "      box-shadow: 0px 1px 3px 1px rgba(0, 0, 0, 0.15);\n",
              "      filter: drop-shadow(0px 1px 2px rgba(0, 0, 0, 0.3));\n",
              "      fill: #FFFFFF;\n",
              "    }\n",
              "  </style>\n",
              "\n",
              "      <script>\n",
              "        const buttonEl =\n",
              "          document.querySelector('#df-c5a5ecfc-5c4f-4392-a520-77eab507b8ec button.colab-df-convert');\n",
              "        buttonEl.style.display =\n",
              "          google.colab.kernel.accessAllowed ? 'block' : 'none';\n",
              "\n",
              "        async function convertToInteractive(key) {\n",
              "          const element = document.querySelector('#df-c5a5ecfc-5c4f-4392-a520-77eab507b8ec');\n",
              "          const dataTable =\n",
              "            await google.colab.kernel.invokeFunction('convertToInteractive',\n",
              "                                                     [key], {});\n",
              "          if (!dataTable) return;\n",
              "\n",
              "          const docLinkHtml = 'Like what you see? Visit the ' +\n",
              "            '<a target=\"_blank\" href=https://colab.research.google.com/notebooks/data_table.ipynb>data table notebook</a>'\n",
              "            + ' to learn more about interactive tables.';\n",
              "          element.innerHTML = '';\n",
              "          dataTable['output_type'] = 'display_data';\n",
              "          await google.colab.output.renderOutput(dataTable, element);\n",
              "          const docLink = document.createElement('div');\n",
              "          docLink.innerHTML = docLinkHtml;\n",
              "          element.appendChild(docLink);\n",
              "        }\n",
              "      </script>\n",
              "    </div>\n",
              "  </div>\n",
              "  "
            ]
          },
          "metadata": {},
          "execution_count": 57
        }
      ]
    },
    {
      "cell_type": "code",
      "source": [
        "sns.countplot(data = df, \n",
        "              x = 'PLANO',\n",
        "              hue = 'FQ')\n",
        "plt.title('Plano x Frequencia')\n",
        "plt.show()"
      ],
      "metadata": {
        "colab": {
          "base_uri": "https://localhost:8080/",
          "height": 295
        },
        "id": "c-xwEm6R6ToG",
        "outputId": "fb25aad0-91d4-4752-ab51-05793ef07c5f"
      },
      "execution_count": 58,
      "outputs": [
        {
          "output_type": "display_data",
          "data": {
            "text/plain": [
              "<Figure size 432x288 with 1 Axes>"
            ],
            "image/png": "[encoded data removed]"
          },
          "metadata": {
            "needs_background": "light"
          }
        }
      ]
    },
    {
      "cell_type": "code",
      "source": [
        "#Plano x numéricas\n",
        "\n",
        "fig, ax = plt.subplots(nrows = 1, ncols=2, figsize = (12, 6))\n",
        "\n",
        "for i, n in enumerate(numericas):\n",
        "\n",
        "  sns.boxplot(data = df.sort_values(by='PLANO', ascending = True),\n",
        "              x = 'PLANO',\n",
        "              y = df[n],\n",
        "              ax = ax[i])\n",
        "  ax[i].set_title(n)\n",
        "\n",
        "plt.show"
      ],
      "metadata": {
        "colab": {
          "base_uri": "https://localhost:8080/",
          "height": 421
        },
        "id": "oZYfQX4mlSz1",
        "outputId": "fb0b0f2d-f294-4dd1-bbfa-72c9ea798cba"
      },
      "execution_count": 59,
      "outputs": [
        {
          "output_type": "execute_result",
          "data": {
            "text/plain": [
              "<function matplotlib.pyplot.show(*args, **kw)>"
            ]
          },
          "metadata": {},
          "execution_count": 59
        },
        {
          "output_type": "display_data",
          "data": {
            "text/plain": [
              "<Figure size 864x432 with 2 Axes>"
            ],
            "image/png": "[encoded data removed]"
          },
          "metadata": {
            "needs_background": "light"
          }
        }
      ]
    },
    {
      "cell_type": "code",
      "source": [
        "#Plano x numéricas\n",
        "\n",
        "fig, ax = plt.subplots(nrows = 1, ncols=2, figsize = (12, 6))\n",
        "\n",
        "for i, n in enumerate(numericas):\n",
        "\n",
        "  sns.boxplot(data = df.sort_values(by='FQ', ascending = True),\n",
        "              x = 'FQ',\n",
        "              y = df[n],\n",
        "              ax = ax[i])\n",
        "  ax[i].set_title(n)\n",
        "\n",
        "plt.show"
      ],
      "metadata": {
        "colab": {
          "base_uri": "https://localhost:8080/",
          "height": 421
        },
        "id": "WYoDhfeMEX8b",
        "outputId": "4d7bc724-b4c9-483d-9bb7-3538dc9a7c83"
      },
      "execution_count": 60,
      "outputs": [
        {
          "output_type": "execute_result",
          "data": {
            "text/plain": [
              "<function matplotlib.pyplot.show(*args, **kw)>"
            ]
          },
          "metadata": {},
          "execution_count": 60
        },
        {
          "output_type": "display_data",
          "data": {
            "text/plain": [
              "<Figure size 864x432 with 2 Axes>"
            ],
            "image/png": "[encoded data removed]"
          },
          "metadata": {
            "needs_background": "light"
          }
        }
      ]
    },
    {
      "cell_type": "code",
      "source": [
        "#Plano x numéricas\n",
        "\n",
        "fig, ax = plt.subplots(nrows = 1, ncols=2, figsize = (18, 6))\n",
        "\n",
        "for i, n in enumerate(numericas):\n",
        "\n",
        "  sns.boxplot(data = df.sort_values(by='cut_SSI', ascending = True),\n",
        "              x = 'cut_SSI',\n",
        "              y = df[n],\n",
        "              ax = ax[i])\n",
        "  ax[i].set_title(n)\n",
        "\n",
        "\n",
        "plt.show"
      ],
      "metadata": {
        "colab": {
          "base_uri": "https://localhost:8080/",
          "height": 422
        },
        "id": "fH-vRW2WHuwa",
        "outputId": "912689e9-c90a-4360-a7b3-d8c8c387b5f2"
      },
      "execution_count": 61,
      "outputs": [
        {
          "output_type": "execute_result",
          "data": {
            "text/plain": [
              "<function matplotlib.pyplot.show(*args, **kw)>"
            ]
          },
          "metadata": {},
          "execution_count": 61
        },
        {
          "output_type": "display_data",
          "data": {
            "text/plain": [
              "<Figure size 1296x432 with 2 Axes>"
            ],
            "image/png": "[encoded data removed]"
          },
          "metadata": {
            "needs_background": "light"
          }
        }
      ]
    },
    {
      "cell_type": "code",
      "source": [
        "sns.scatterplot(data = df,\n",
        "                x = 'TX_PHY_RATE',\n",
        "                y = 'CCA_INT',\n",
        "                alpha = 0.3,\n",
        "                hue = 'FQ')\n",
        "plt.title('taxa x tempo de processamento')\n",
        "plt.show()"
      ],
      "metadata": {
        "colab": {
          "base_uri": "https://localhost:8080/",
          "height": 296
        },
        "id": "GGVHdsEZOcSY",
        "outputId": "6c8da088-c70b-476a-98b6-11beedac3a22"
      },
      "execution_count": 62,
      "outputs": [
        {
          "output_type": "display_data",
          "data": {
            "text/plain": [
              "<Figure size 432x288 with 1 Axes>"
            ],
            "image/png": "[encoded data removed]"
          },
          "metadata": {
            "needs_background": "light"
          }
        }
      ]
    },
    {
      "cell_type": "code",
      "source": [
        "corr_df = df[['TX_PHY_RATE', 'CCA_INT', 'RSSI_DBM', 'PLANO']].corr()"
      ],
      "metadata": {
        "id": "Ti6wTYr2IWu0"
      },
      "execution_count": 63,
      "outputs": []
    },
    {
      "cell_type": "code",
      "source": [
        "sns.heatmap(corr_df)\n",
        "plt.title('Correlação entre variáveis')\n",
        "plt.show()"
      ],
      "metadata": {
        "colab": {
          "base_uri": "https://localhost:8080/",
          "height": 282
        },
        "id": "3S0578WRJrN_",
        "outputId": "5e567663-8bae-4047-a8f6-822752f80c88"
      },
      "execution_count": 64,
      "outputs": [
        {
          "output_type": "display_data",
          "data": {
            "text/plain": [
              "<Figure size 432x288 with 2 Axes>"
            ],
            "image/png": "[encoded data removed]"
          },
          "metadata": {
            "needs_background": "light"
          }
        }
      ]
    },
    {
      "cell_type": "markdown",
      "source": [
        "\n",
        "### Avaliação do desempenho"
      ],
      "metadata": {
        "id": "8Q4OsnGzIA10"
      }
    },
    {
      "cell_type": "code",
      "source": [
        "tempo_bom_threeshold = df['CCA_INT'].quantile(0.25)\n",
        "tempo_ruim_threeshold = df['CCA_INT'].quantile(0.75)\n",
        "\n",
        "tempo_bom_df = df[df['CCA_INT'] <= tempo_bom_threeshold]\n",
        "tempo_ruim_df = df[df['CCA_INT'] >= tempo_ruim_threeshold]"
      ],
      "metadata": {
        "id": "9WR8wJ1mIDyx"
      },
      "execution_count": 66,
      "outputs": []
    },
    {
      "cell_type": "code",
      "source": [
        "print(f'Quantidade de dispositivos com bom tempo: {tempo_bom_df.shape[0]}')\n",
        "print('\\n')\n",
        "print(f'Quantidade de dispositivos com tempo ruim: {tempo_ruim_df.shape[0]}')"
      ],
      "metadata": {
        "colab": {
          "base_uri": "https://localhost:8080/"
        },
        "id": "accLS6XPI7W1",
        "outputId": "e2a8b5ac-d5bb-4531-e10a-3ce5f2b5b489"
      },
      "execution_count": 67,
      "outputs": [
        {
          "output_type": "stream",
          "name": "stdout",
          "text": [
            "Quantidade de dispositivos com bom tempo: 4434\n",
            "\n",
            "\n",
            "Quantidade de dispositivos com tempo ruim: 2552\n"
          ]
        }
      ]
    },
    {
      "cell_type": "code",
      "source": [
        "print(tempo_bom_df['ID_CLIENTE'].unique().shape[0])\n",
        "\n",
        "print(tempo_ruim_df['ID_CLIENTE'].unique().shape[0])"
      ],
      "metadata": {
        "colab": {
          "base_uri": "https://localhost:8080/"
        },
        "id": "oWlRjnuuJ9bI",
        "outputId": "fd4dd817-a168-4554-910d-722a2d16f080"
      },
      "execution_count": 68,
      "outputs": [
        {
          "output_type": "stream",
          "name": "stdout",
          "text": [
            "2338\n",
            "1272\n"
          ]
        }
      ]
    },
    {
      "cell_type": "code",
      "source": [
        "velocidade_boa_threeshold = df['TX_PHY_RATE'].quantile(0.75)\n",
        "velocidade_ruim_threeshold = df['TX_PHY_RATE'].quantile(0.25)\n",
        "\n",
        "velocidade_boa_df = df[df['TX_PHY_RATE'] >= velocidade_boa_threeshold]\n",
        "velocidade_ruim_df = df[df['TX_PHY_RATE'] <= velocidade_ruim_threeshold]"
      ],
      "metadata": {
        "id": "nFi0BoSlRh89"
      },
      "execution_count": 69,
      "outputs": []
    },
    {
      "cell_type": "code",
      "source": [
        "print(f'Quantidade de dispositivos com boa velocidade: {velocidade_boa_df.shape[0]}')\n",
        "print('\\n')\n",
        "print(f'Quantidade de dispositivos com velocidade ruim: {velocidade_ruim_df.shape[0]}')"
      ],
      "metadata": {
        "colab": {
          "base_uri": "https://localhost:8080/"
        },
        "id": "oMNBFXrmSR3O",
        "outputId": "1ae431b9-c212-47ae-cac6-24abb6008708"
      },
      "execution_count": 70,
      "outputs": [
        {
          "output_type": "stream",
          "name": "stdout",
          "text": [
            "Quantidade de dispositivos com boa velocidade: 2586\n",
            "\n",
            "\n",
            "Quantidade de dispositivos com velocidade ruim: 4289\n"
          ]
        }
      ]
    },
    {
      "cell_type": "code",
      "source": [
        "intersecção_bons_dispositivos = tempo_bom_df.loc[tempo_bom_df['STA'].isin(velocidade_boa_df['STA'])]\n",
        "\n",
        "intersecção_dispositivos_ruins = tempo_ruim_df.loc[tempo_ruim_df['STA'].isin(velocidade_ruim_df['STA'])]"
      ],
      "metadata": {
        "id": "-sSZvfmjTXpy"
      },
      "execution_count": 71,
      "outputs": []
    },
    {
      "cell_type": "code",
      "source": [
        "Bons_Dispositivos = list(intersecção_bons_dispositivos['STA'].unique()) #Lista de dispositivos com bom desempenho\n",
        "Dispositivos_Ruins = list(intersecção_dispositivos_ruins['STA'].unique()) #Lista de dispositivos com bom desempenho"
      ],
      "metadata": {
        "id": "X26APO8YiHLH"
      },
      "execution_count": 101,
      "outputs": []
    },
    {
      "cell_type": "code",
      "source": [
        "print(f'Quantidade de dispositivos com boa velocidade e bom tempo de processamento: {intersecção_bons_dispositivos.shape[0]}')\n",
        "print('\\n')\n",
        "print(f' Quantidade de dispositivos com velocidade de tempo de processamento ruins {intersecção_dispositivos_ruins.shape[0]}')"
      ],
      "metadata": {
        "colab": {
          "base_uri": "https://localhost:8080/"
        },
        "id": "VtoD8dAKVyJ-",
        "outputId": "072e2e5f-6074-4b3b-cdfc-ceafbd6784b1"
      },
      "execution_count": 72,
      "outputs": [
        {
          "output_type": "stream",
          "name": "stdout",
          "text": [
            "Quantidade de dispositivos com boa velocidade e bom tempo de processamento: 815\n",
            "\n",
            "\n",
            " Quantidade de dispositivos com velocidade de tempo de processamento ruins 2026\n"
          ]
        }
      ]
    },
    {
      "cell_type": "markdown",
      "source": [
        "### Segmentação de clientes"
      ],
      "metadata": {
        "id": "p8NpMKG8X4ZZ"
      }
    },
    {
      "cell_type": "markdown",
      "source": [
        "Após avaliação do desempenho dos clientes, uma outra abordagem interessante se dá na segmentação dos clientes para que possam ser tratados de maneira diversa de acordo com suas peculiaridades em comum. Para isso, será utilizado um algoritmo de clusterização chamado Kmeans.agglomerativeclustering."
      ],
      "metadata": {
        "id": "81bS9joIYW_v"
      }
    },
    {
      "cell_type": "code",
      "source": [
        "cluster_df = df.drop(columns = 'cut_SSI')"
      ],
      "metadata": {
        "id": "RLYWdDyJX8YS"
      },
      "execution_count": 75,
      "outputs": []
    },
    {
      "cell_type": "code",
      "source": [
        "#Label Encoding the object dtypes.\n",
        "LE=LabelEncoder()\n",
        "cluster_df['FQ']=cluster_df[['FQ']].apply(LE.fit_transform)"
      ],
      "metadata": {
        "colab": {
          "base_uri": "https://localhost:8080/"
        },
        "id": "dlZHbOYKZqmy",
        "outputId": "8762dd3f-0a9d-4fbc-d4b9-64abdfc46269"
      },
      "execution_count": 80,
      "outputs": [
        {
          "output_type": "stream",
          "name": "stdout",
          "text": [
            "All features are now numerical\n"
          ]
        }
      ]
    },
    {
      "cell_type": "code",
      "source": [
        "cluster_df.info()"
      ],
      "metadata": {
        "colab": {
          "base_uri": "https://localhost:8080/"
        },
        "id": "JXIyR3vmZlE_",
        "outputId": "ccf577c1-dcae-4a26-8fb4-e41870d3b319"
      },
      "execution_count": 81,
      "outputs": [
        {
          "output_type": "stream",
          "name": "stdout",
          "text": [
            "<class 'pandas.core.frame.DataFrame'>\n",
            "RangeIndex: 10000 entries, 0 to 9999\n",
            "Data columns (total 8 columns):\n",
            " #   Column       Non-Null Count  Dtype \n",
            "---  ------       --------------  ----- \n",
            " 0   AP           10000 non-null  object\n",
            " 1   STA          10000 non-null  object\n",
            " 2   RSSI_DBM     10000 non-null  int64 \n",
            " 3   TX_PHY_RATE  10000 non-null  int64 \n",
            " 4   CCA_INT      10000 non-null  int64 \n",
            " 5   FQ           10000 non-null  int64 \n",
            " 6   ID_CLIENTE   10000 non-null  int64 \n",
            " 7   PLANO        10000 non-null  int64 \n",
            "dtypes: int64(6), object(2)\n",
            "memory usage: 625.1+ KB\n"
          ]
        }
      ]
    },
    {
      "cell_type": "code",
      "source": [
        "cluster_copy = cluster_df.copy()"
      ],
      "metadata": {
        "id": "zcqAcD3ybyE7"
      },
      "execution_count": 82,
      "outputs": []
    },
    {
      "cell_type": "code",
      "source": [
        "cluster_copy = cluster_copy.drop(columns=['AP', 'STA', 'ID_CLIENTE'])"
      ],
      "metadata": {
        "id": "JdkJhObZb3Q1"
      },
      "execution_count": 83,
      "outputs": []
    },
    {
      "cell_type": "code",
      "source": [
        "#Scaling\n",
        "scaler = StandardScaler()\n",
        "scaler.fit(cluster_copy)\n",
        "scaled_ds = pd.DataFrame(scaler.transform(cluster_copy),columns=cluster_copy.columns )"
      ],
      "metadata": {
        "id": "yiSiPJDTbpUf"
      },
      "execution_count": 84,
      "outputs": []
    },
    {
      "cell_type": "code",
      "source": [
        "Elbow_M = KElbowVisualizer(KMeans(), k=10)\n",
        "Elbow_M.fit(scaled_ds)\n",
        "Elbow_M.show()"
      ],
      "metadata": {
        "colab": {
          "base_uri": "https://localhost:8080/",
          "height": 393
        },
        "id": "kY5Zd2cBcOP7",
        "outputId": "f8cd8334-5c38-4abc-c929-0e264fc533f0"
      },
      "execution_count": 85,
      "outputs": [
        {
          "output_type": "display_data",
          "data": {
            "text/plain": [
              "<Figure size 576x396 with 2 Axes>"
            ],
            "image/png": "[encoded data removed]"
          },
          "metadata": {}
        },
        {
          "output_type": "execute_result",
          "data": {
            "text/plain": [
              "<matplotlib.axes._subplots.AxesSubplot at 0x7f4358d2f2d0>"
            ]
          },
          "metadata": {},
          "execution_count": 85
        }
      ]
    },
    {
      "cell_type": "markdown",
      "source": [
        "O método elbow é utilizado para indicar um número ótimo de clusters para separação dos clientes, caso não haja uma definição prévia, que o caso desse case."
      ],
      "metadata": {
        "id": "72OCvo8WiqeC"
      }
    },
    {
      "cell_type": "code",
      "source": [
        "#Initiating the Agglomerative Clustering model \n",
        "AC = AgglomerativeClustering(n_clusters=5)\n",
        "# fit model and predict clusters\n",
        "Cluster_AC = AC.fit_predict(scaled_ds)\n",
        "scaled_ds[\"Clusters\"] = Cluster_AC\n",
        "#Adding the Clusters feature to the orignal dataframe.\n",
        "cluster_df[\"Clusters\"]= Cluster_AC"
      ],
      "metadata": {
        "id": "lL5FKqZcc93V"
      },
      "execution_count": 87,
      "outputs": []
    },
    {
      "cell_type": "code",
      "source": [
        "sns.scatterplot(data = cluster_df,\n",
        "            x = 'TX_PHY_RATE',\n",
        "            y = 'RSSI_DBM',\n",
        "            hue = 'Clusters')\n",
        "plt.title('Desempenho por cluster')\n",
        "plt.show()"
      ],
      "metadata": {
        "colab": {
          "base_uri": "https://localhost:8080/",
          "height": 376
        },
        "id": "V6d-hcRjdv0r",
        "outputId": "326d8e83-8807-486f-e1e5-158e3b8a0f89"
      },
      "execution_count": 93,
      "outputs": [
        {
          "output_type": "display_data",
          "data": {
            "text/plain": [
              "<Figure size 576x396 with 1 Axes>"
            ],
            "image/png": "[encoded data removed]"
          },
          "metadata": {}
        }
      ]
    },
    {
      "cell_type": "markdown",
      "source": [
        "Não há clara distinção em relação a desempenho nos diferentes clusters, salvo com relação a velocidade, em que o cluster \"4\" possui grande vantagem."
      ],
      "metadata": {
        "id": "w5RCafO6i4Gp"
      }
    }
  ]
}